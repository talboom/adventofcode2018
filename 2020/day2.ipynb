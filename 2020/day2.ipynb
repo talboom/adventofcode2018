{
 "cells": [
  {
   "cell_type": "raw",
   "metadata": {},
   "source": [
    "Day 2"
   ]
  },
  {
   "cell_type": "code",
   "execution_count": null,
   "metadata": {},
   "outputs": [],
   "source": [
    "import re"
   ]
  },
  {
   "cell_type": "code",
   "execution_count": 52,
   "metadata": {},
   "outputs": [
    {
     "data": {
      "text/plain": [
       "582"
      ]
     },
     "execution_count": 52,
     "metadata": {},
     "output_type": "execute_result"
    }
   ],
   "source": [
    "# part 1\n",
    "import re\n",
    "file = open(\"input/day2.txt\",\"r\")\n",
    "\n",
    "# check file mode and readlines\n",
    "if file.mode == 'r':\n",
    "    data = file.read().splitlines()\n",
    "\n",
    "valid = 0\n",
    "    \n",
    "for d in data:\n",
    "    a,min_l, max_l, letter, password,z = re.split(r'(?P<min>[0-9]+)-(?P<max>[0-9]+) (?P<letter>[a-z]): (?P<password>[a-z]+)',d)\n",
    "    count = password.count(letter)\n",
    "    if(count >= int(min_l) and count <= int(max_l)):\n",
    "        valid += 1\n",
    "valid"
   ]
  },
  {
   "cell_type": "code",
   "execution_count": 85,
   "metadata": {},
   "outputs": [
    {
     "data": {
      "text/plain": [
       "729"
      ]
     },
     "execution_count": 85,
     "metadata": {},
     "output_type": "execute_result"
    }
   ],
   "source": [
    "# part 2\n",
    "import re\n",
    "file = open(\"input/day2.txt\",\"r\")\n",
    "\n",
    "# check file mode and readlines\n",
    "if file.mode == 'r':\n",
    "    data = file.read().splitlines()\n",
    "\n",
    "valid = 0\n",
    "    \n",
    "for d in data:\n",
    "    a,first, second, letter, password,z = re.split(r'(?P<min>[0-9]+)-(?P<max>[0-9]+) (?P<letter>[a-z]): (?P<password>[a-z]+)',d)\n",
    "    if(password[int(first)-1] == letter and password[int(second)-1] != letter):\n",
    "        valid += 1\n",
    "    if(password[int(first)-1] != letter and password[int(second)-1] == letter):\n",
    "        valid += 1\n",
    "valid"
   ]
  }
 ],
 "metadata": {
  "kernelspec": {
   "display_name": "Python 3",
   "language": "python",
   "name": "python3"
  },
  "language_info": {
   "codemirror_mode": {
    "name": "ipython",
    "version": 3
   },
   "file_extension": ".py",
   "mimetype": "text/x-python",
   "name": "python",
   "nbconvert_exporter": "python",
   "pygments_lexer": "ipython3",
   "version": "3.7.3"
  }
 },
 "nbformat": 4,
 "nbformat_minor": 2
}
