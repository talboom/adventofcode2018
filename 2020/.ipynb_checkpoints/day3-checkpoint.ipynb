{
 "cells": [
  {
   "cell_type": "code",
   "execution_count": 10,
   "metadata": {
    "scrolled": true
   },
   "outputs": [],
   "source": [
    "# read file\n",
    "file = open(\"input/day3.txt\",\"r\")\n",
    "\n",
    "# check file mode and readlines\n",
    "if file.mode == 'r':\n",
    "    data = file.read().splitlines()\n",
    "\n",
    "pattern_width = len(data[0])\n",
    "rows = len(data)"
   ]
  },
  {
   "cell_type": "code",
   "execution_count": 11,
   "metadata": {},
   "outputs": [
    {
     "data": {
      "text/plain": [
       "162"
      ]
     },
     "execution_count": 11,
     "metadata": {},
     "output_type": "execute_result"
    }
   ],
   "source": [
    "x = 0\n",
    "y = 0 \n",
    "trees = 0\n",
    "for d in data:\n",
    "    if data[y][x] == '#':\n",
    "        trees += 1\n",
    "    x = (x + 3) % pattern_width\n",
    "    y += 1\n",
    "trees"
   ]
  },
  {
   "cell_type": "code",
   "execution_count": 20,
   "metadata": {},
   "outputs": [
    {
     "name": "stdout",
     "output_type": "stream",
     "text": [
      "80\n",
      "162\n",
      "77\n",
      "83\n",
      "37\n"
     ]
    },
    {
     "data": {
      "text/plain": [
       "3064612320"
      ]
     },
     "execution_count": 20,
     "metadata": {},
     "output_type": "execute_result"
    }
   ],
   "source": [
    "def treesOnSlope(data,x_step,y_step):\n",
    "    x = 0\n",
    "    y = 0 \n",
    "    trees = 0\n",
    "    while y < len(data):\n",
    "        if data[y][x] == '#':\n",
    "            trees += 1\n",
    "        x = (x + x_step) % pattern_width\n",
    "        y += y_step\n",
    "    return trees \n",
    "routes = [[1,1],[3,1],[5,1],[7,1],[1,2]]\n",
    "\n",
    "result = 1\n",
    "\n",
    "for route in routes:\n",
    "    result *= treesOnSlope(data,route[0],route[1])\n",
    "    print( treesOnSlope(data,route[0],route[1]))\n",
    "result"
   ]
  }
 ],
 "metadata": {
  "kernelspec": {
   "display_name": "Python 3",
   "language": "python",
   "name": "python3"
  },
  "language_info": {
   "codemirror_mode": {
    "name": "ipython",
    "version": 3
   },
   "file_extension": ".py",
   "mimetype": "text/x-python",
   "name": "python",
   "nbconvert_exporter": "python",
   "pygments_lexer": "ipython3",
   "version": "3.7.3"
  }
 },
 "nbformat": 4,
 "nbformat_minor": 2
}
