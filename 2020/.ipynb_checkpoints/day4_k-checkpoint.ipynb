{
 "cells": [
  {
   "cell_type": "code",
   "execution_count": 1,
   "metadata": {},
   "outputs": [
    {
     "ename": "ImportError",
     "evalue": "cannot import name 'read_file' from 'utils' (c:\\users\\t_tal\\appdata\\local\\programs\\python\\python37\\lib\\site-packages\\utils\\__init__.py)",
     "output_type": "error",
     "traceback": [
      "\u001b[1;31m---------------------------------------------------------------------------\u001b[0m",
      "\u001b[1;31mImportError\u001b[0m                               Traceback (most recent call last)",
      "\u001b[1;32m<ipython-input-1-23c9c1425bf4>\u001b[0m in \u001b[0;36m<module>\u001b[1;34m\u001b[0m\n\u001b[1;32m----> 1\u001b[1;33m \u001b[1;32mfrom\u001b[0m \u001b[0mutils\u001b[0m \u001b[1;32mimport\u001b[0m \u001b[0mread_file\u001b[0m\u001b[1;33m\u001b[0m\u001b[1;33m\u001b[0m\u001b[0m\n\u001b[0m",
      "\u001b[1;31mImportError\u001b[0m: cannot import name 'read_file' from 'utils' (c:\\users\\t_tal\\appdata\\local\\programs\\python\\python37\\lib\\site-packages\\utils\\__init__.py)"
     ]
    }
   ],
   "source": []
  },
  {
   "cell_type": "code",
   "execution_count": 7,
   "metadata": {},
   "outputs": [],
   "source": [
    "# read file\n",
    "file = open(\"input/day4.txt\",\"r\")\n",
    "\n",
    "# check file mode and readlines\n",
    "if file.mode == 'r':\n",
    "    data = file.read().splitlines()"
   ]
  },
  {
   "cell_type": "code",
   "execution_count": 10,
   "metadata": {},
   "outputs": [],
   "source": [
    "passport = dict()\n",
    "passports = []\n",
    "for d in data:\n",
    "    if d != '':\n",
    "        parts = d.split()\n",
    "        for p in parts:\n",
    "            key , value = p.split(\":\",2)\n",
    "            passport[key] = value\n",
    "    else:\n",
    "        passports.append(passport)\n",
    "        passport = dict()\n",
    "passports.append(passport)\n",
    "all_passes = passports\n"
   ]
  },
  {
   "cell_type": "code",
   "execution_count": 6,
   "metadata": {},
   "outputs": [
    {
     "ename": "AttributeError",
     "evalue": "'dict' object has no attribute 'split'",
     "output_type": "error",
     "traceback": [
      "\u001b[1;31m---------------------------------------------------------------------------\u001b[0m",
      "\u001b[1;31mAttributeError\u001b[0m                            Traceback (most recent call last)",
      "\u001b[1;32m<ipython-input-6-44dc06b77443>\u001b[0m in \u001b[0;36m<module>\u001b[1;34m\u001b[0m\n\u001b[0;32m      4\u001b[0m     \u001b[0mpass_dict\u001b[0m \u001b[1;33m=\u001b[0m \u001b[1;33m{\u001b[0m\u001b[1;33m}\u001b[0m\u001b[1;33m\u001b[0m\u001b[1;33m\u001b[0m\u001b[0m\n\u001b[0;32m      5\u001b[0m \u001b[1;33m\u001b[0m\u001b[0m\n\u001b[1;32m----> 6\u001b[1;33m     \u001b[0msplit_entries\u001b[0m \u001b[1;33m=\u001b[0m \u001b[0mp\u001b[0m\u001b[1;33m.\u001b[0m\u001b[0msplit\u001b[0m\u001b[1;33m(\u001b[0m\u001b[1;34m' '\u001b[0m\u001b[1;33m)\u001b[0m\u001b[1;33m\u001b[0m\u001b[1;33m\u001b[0m\u001b[0m\n\u001b[0m\u001b[0;32m      7\u001b[0m     \u001b[1;32mfor\u001b[0m \u001b[0mentry\u001b[0m \u001b[1;32min\u001b[0m \u001b[0msplit_entries\u001b[0m\u001b[1;33m:\u001b[0m\u001b[1;33m\u001b[0m\u001b[1;33m\u001b[0m\u001b[0m\n\u001b[0;32m      8\u001b[0m         \u001b[1;32mif\u001b[0m \u001b[0mentry\u001b[0m\u001b[1;33m:\u001b[0m\u001b[1;33m\u001b[0m\u001b[1;33m\u001b[0m\u001b[0m\n",
      "\u001b[1;31mAttributeError\u001b[0m: 'dict' object has no attribute 'split'"
     ]
    }
   ],
   "source": [
    "all_passes = []\n",
    "\n",
    "for p in passports:\n",
    "    pass_dict = {}\n",
    "\n",
    "    split_entries = p.split(' ')\n",
    "    for entry in split_entries:\n",
    "        if entry:\n",
    "            key, value = entry.split(':')\n",
    "            pass_dict[key] = value\n",
    "    all_passes.append(pass_dict)"
   ]
  },
  {
   "cell_type": "code",
   "execution_count": 11,
   "metadata": {},
   "outputs": [
    {
     "data": {
      "text/plain": [
       "192"
      ]
     },
     "execution_count": 11,
     "metadata": {},
     "output_type": "execute_result"
    }
   ],
   "source": [
    "valid_passport_count = 0\n",
    "valid_passports = []\n",
    "for p in all_passes:\n",
    "    if {'byr', 'iyr', 'eyr', 'hgt', 'hcl', 'ecl', 'pid'}.issubset(set(p.keys())):\n",
    "        valid_passport_count += 1\n",
    "        valid_passports.append(p)\n",
    "valid_passport_count"
   ]
  },
  {
   "cell_type": "code",
   "execution_count": 17,
   "metadata": {},
   "outputs": [
    {
     "name": "stdout",
     "output_type": "stream",
     "text": [
      "{'iyr': '2017', 'ecl': 'blu', 'byr': '1942', 'hcl': '#733820', 'eyr': '2023', 'hgt': '151cm', 'pid': '289923625'}\n",
      "{'iyr': '2017', 'ecl': 'blu', 'byr': '1942', 'hcl': '#733820', 'eyr': '2023', 'hgt': '151cm', 'pid': '289923625'}\n",
      "{'iyr': '2017', 'ecl': 'blu', 'byr': '1942', 'hcl': '#733820', 'eyr': '2023', 'hgt': '151cm', 'pid': '289923625'}\n",
      "{'iyr': '2017', 'ecl': 'blu', 'byr': '1942', 'hcl': '#733820', 'eyr': '2023', 'hgt': '151cm', 'pid': '289923625'}\n",
      "{'iyr': '2017', 'ecl': 'blu', 'byr': '1942', 'hcl': '#733820', 'eyr': '2023', 'hgt': '151cm', 'pid': '289923625'}\n",
      "{'iyr': '2017', 'ecl': 'blu', 'byr': '1942', 'hcl': '#733820', 'eyr': '2023', 'hgt': '151cm', 'pid': '289923625'}\n",
      "{'iyr': '2017', 'ecl': 'blu', 'byr': '1942', 'hcl': '#733820', 'eyr': '2023', 'hgt': '151cm', 'pid': '289923625'}\n",
      "{'iyr': '2017', 'ecl': 'blu', 'byr': '1942', 'hcl': '#733820', 'eyr': '2023', 'hgt': '151cm', 'pid': '289923625'}\n",
      "{'iyr': '2017', 'ecl': 'blu', 'byr': '1942', 'hcl': '#733820', 'eyr': '2023', 'hgt': '151cm', 'pid': '289923625'}\n",
      "{'iyr': '2017', 'ecl': 'blu', 'byr': '1942', 'hcl': '#733820', 'eyr': '2023', 'hgt': '151cm', 'pid': '289923625'}\n",
      "{'iyr': '2017', 'ecl': 'blu', 'byr': '1942', 'hcl': '#733820', 'eyr': '2023', 'hgt': '151cm', 'pid': '289923625'}\n",
      "{'iyr': '2017', 'ecl': 'blu', 'byr': '1942', 'hcl': '#733820', 'eyr': '2023', 'hgt': '151cm', 'pid': '289923625'}\n",
      "{'iyr': '2017', 'ecl': 'blu', 'byr': '1942', 'hcl': '#733820', 'eyr': '2023', 'hgt': '151cm', 'pid': '289923625'}\n",
      "{'iyr': '2017', 'ecl': 'blu', 'byr': '1942', 'hcl': '#733820', 'eyr': '2023', 'hgt': '151cm', 'pid': '289923625'}\n",
      "{'iyr': '2017', 'ecl': 'blu', 'byr': '1942', 'hcl': '#733820', 'eyr': '2023', 'hgt': '151cm', 'pid': '289923625'}\n",
      "{'iyr': '2017', 'ecl': 'blu', 'byr': '1942', 'hcl': '#733820', 'eyr': '2023', 'hgt': '151cm', 'pid': '289923625'}\n",
      "{'iyr': '2017', 'ecl': 'blu', 'byr': '1942', 'hcl': '#733820', 'eyr': '2023', 'hgt': '151cm', 'pid': '289923625'}\n",
      "{'iyr': '2017', 'ecl': 'blu', 'byr': '1942', 'hcl': '#733820', 'eyr': '2023', 'hgt': '151cm', 'pid': '289923625'}\n",
      "{'iyr': '2017', 'ecl': 'blu', 'byr': '1942', 'hcl': '#733820', 'eyr': '2023', 'hgt': '151cm', 'pid': '289923625'}\n",
      "{'iyr': '2017', 'ecl': 'blu', 'byr': '1942', 'hcl': '#733820', 'eyr': '2023', 'hgt': '151cm', 'pid': '289923625'}\n",
      "{'iyr': '2017', 'ecl': 'blu', 'byr': '1942', 'hcl': '#733820', 'eyr': '2023', 'hgt': '151cm', 'pid': '289923625'}\n",
      "{'iyr': '2017', 'ecl': 'blu', 'byr': '1942', 'hcl': '#733820', 'eyr': '2023', 'hgt': '151cm', 'pid': '289923625'}\n",
      "{'iyr': '2017', 'ecl': 'blu', 'byr': '1942', 'hcl': '#733820', 'eyr': '2023', 'hgt': '151cm', 'pid': '289923625'}\n",
      "{'iyr': '2017', 'ecl': 'blu', 'byr': '1942', 'hcl': '#733820', 'eyr': '2023', 'hgt': '151cm', 'pid': '289923625'}\n",
      "{'iyr': '2017', 'ecl': 'blu', 'byr': '1942', 'hcl': '#733820', 'eyr': '2023', 'hgt': '151cm', 'pid': '289923625'}\n",
      "{'iyr': '2017', 'ecl': 'blu', 'byr': '1942', 'hcl': '#733820', 'eyr': '2023', 'hgt': '151cm', 'pid': '289923625'}\n",
      "{'iyr': '2017', 'ecl': 'blu', 'byr': '1942', 'hcl': '#733820', 'eyr': '2023', 'hgt': '151cm', 'pid': '289923625'}\n",
      "{'iyr': '2017', 'ecl': 'blu', 'byr': '1942', 'hcl': '#733820', 'eyr': '2023', 'hgt': '151cm', 'pid': '289923625'}\n",
      "{'iyr': '2017', 'ecl': 'blu', 'byr': '1942', 'hcl': '#733820', 'eyr': '2023', 'hgt': '151cm', 'pid': '289923625'}\n",
      "{'iyr': '2017', 'ecl': 'blu', 'byr': '1942', 'hcl': '#733820', 'eyr': '2023', 'hgt': '151cm', 'pid': '289923625'}\n",
      "{'iyr': '2017', 'ecl': 'blu', 'byr': '1942', 'hcl': '#733820', 'eyr': '2023', 'hgt': '151cm', 'pid': '289923625'}\n",
      "{'iyr': '2017', 'ecl': 'blu', 'byr': '1942', 'hcl': '#733820', 'eyr': '2023', 'hgt': '151cm', 'pid': '289923625'}\n",
      "{'iyr': '2017', 'ecl': 'blu', 'byr': '1942', 'hcl': '#733820', 'eyr': '2023', 'hgt': '151cm', 'pid': '289923625'}\n",
      "{'iyr': '2017', 'ecl': 'blu', 'byr': '1942', 'hcl': '#733820', 'eyr': '2023', 'hgt': '151cm', 'pid': '289923625'}\n",
      "{'iyr': '2017', 'ecl': 'blu', 'byr': '1942', 'hcl': '#733820', 'eyr': '2023', 'hgt': '151cm', 'pid': '289923625'}\n",
      "{'iyr': '2017', 'ecl': 'blu', 'byr': '1942', 'hcl': '#733820', 'eyr': '2023', 'hgt': '151cm', 'pid': '289923625'}\n",
      "{'iyr': '2017', 'ecl': 'blu', 'byr': '1942', 'hcl': '#733820', 'eyr': '2023', 'hgt': '151cm', 'pid': '289923625'}\n",
      "{'iyr': '2017', 'ecl': 'blu', 'byr': '1942', 'hcl': '#733820', 'eyr': '2023', 'hgt': '151cm', 'pid': '289923625'}\n",
      "{'iyr': '2017', 'ecl': 'blu', 'byr': '1942', 'hcl': '#733820', 'eyr': '2023', 'hgt': '151cm', 'pid': '289923625'}\n",
      "{'iyr': '2017', 'ecl': 'blu', 'byr': '1942', 'hcl': '#733820', 'eyr': '2023', 'hgt': '151cm', 'pid': '289923625'}\n",
      "{'iyr': '2017', 'ecl': 'blu', 'byr': '1942', 'hcl': '#733820', 'eyr': '2023', 'hgt': '151cm', 'pid': '289923625'}\n",
      "{'iyr': '2017', 'ecl': 'blu', 'byr': '1942', 'hcl': '#733820', 'eyr': '2023', 'hgt': '151cm', 'pid': '289923625'}\n",
      "{'iyr': '2017', 'ecl': 'blu', 'byr': '1942', 'hcl': '#733820', 'eyr': '2023', 'hgt': '151cm', 'pid': '289923625'}\n",
      "{'iyr': '2017', 'ecl': 'blu', 'byr': '1942', 'hcl': '#733820', 'eyr': '2023', 'hgt': '151cm', 'pid': '289923625'}\n",
      "{'iyr': '2017', 'ecl': 'blu', 'byr': '1942', 'hcl': '#733820', 'eyr': '2023', 'hgt': '151cm', 'pid': '289923625'}\n",
      "{'iyr': '2017', 'ecl': 'blu', 'byr': '1942', 'hcl': '#733820', 'eyr': '2023', 'hgt': '151cm', 'pid': '289923625'}\n",
      "{'iyr': '2017', 'ecl': 'blu', 'byr': '1942', 'hcl': '#733820', 'eyr': '2023', 'hgt': '151cm', 'pid': '289923625'}\n",
      "{'iyr': '2017', 'ecl': 'blu', 'byr': '1942', 'hcl': '#733820', 'eyr': '2023', 'hgt': '151cm', 'pid': '289923625'}\n",
      "{'iyr': '2017', 'ecl': 'blu', 'byr': '1942', 'hcl': '#733820', 'eyr': '2023', 'hgt': '151cm', 'pid': '289923625'}\n",
      "{'iyr': '2017', 'ecl': 'blu', 'byr': '1942', 'hcl': '#733820', 'eyr': '2023', 'hgt': '151cm', 'pid': '289923625'}\n",
      "{'iyr': '2017', 'ecl': 'blu', 'byr': '1942', 'hcl': '#733820', 'eyr': '2023', 'hgt': '151cm', 'pid': '289923625'}\n",
      "{'iyr': '2017', 'ecl': 'blu', 'byr': '1942', 'hcl': '#733820', 'eyr': '2023', 'hgt': '151cm', 'pid': '289923625'}\n",
      "{'iyr': '2017', 'ecl': 'blu', 'byr': '1942', 'hcl': '#733820', 'eyr': '2023', 'hgt': '151cm', 'pid': '289923625'}\n",
      "{'iyr': '2017', 'ecl': 'blu', 'byr': '1942', 'hcl': '#733820', 'eyr': '2023', 'hgt': '151cm', 'pid': '289923625'}\n",
      "{'iyr': '2017', 'ecl': 'blu', 'byr': '1942', 'hcl': '#733820', 'eyr': '2023', 'hgt': '151cm', 'pid': '289923625'}\n",
      "{'iyr': '2017', 'ecl': 'blu', 'byr': '1942', 'hcl': '#733820', 'eyr': '2023', 'hgt': '151cm', 'pid': '289923625'}\n",
      "{'iyr': '2017', 'ecl': 'blu', 'byr': '1942', 'hcl': '#733820', 'eyr': '2023', 'hgt': '151cm', 'pid': '289923625'}\n",
      "{'iyr': '2017', 'ecl': 'blu', 'byr': '1942', 'hcl': '#733820', 'eyr': '2023', 'hgt': '151cm', 'pid': '289923625'}\n",
      "{'iyr': '2017', 'ecl': 'blu', 'byr': '1942', 'hcl': '#733820', 'eyr': '2023', 'hgt': '151cm', 'pid': '289923625'}\n",
      "{'iyr': '2017', 'ecl': 'blu', 'byr': '1942', 'hcl': '#733820', 'eyr': '2023', 'hgt': '151cm', 'pid': '289923625'}\n",
      "{'iyr': '2017', 'ecl': 'blu', 'byr': '1942', 'hcl': '#733820', 'eyr': '2023', 'hgt': '151cm', 'pid': '289923625'}\n",
      "{'iyr': '2017', 'ecl': 'blu', 'byr': '1942', 'hcl': '#733820', 'eyr': '2023', 'hgt': '151cm', 'pid': '289923625'}\n",
      "{'iyr': '2017', 'ecl': 'blu', 'byr': '1942', 'hcl': '#733820', 'eyr': '2023', 'hgt': '151cm', 'pid': '289923625'}\n",
      "{'iyr': '2017', 'ecl': 'blu', 'byr': '1942', 'hcl': '#733820', 'eyr': '2023', 'hgt': '151cm', 'pid': '289923625'}\n",
      "{'iyr': '2017', 'ecl': 'blu', 'byr': '1942', 'hcl': '#733820', 'eyr': '2023', 'hgt': '151cm', 'pid': '289923625'}\n",
      "{'iyr': '2017', 'ecl': 'blu', 'byr': '1942', 'hcl': '#733820', 'eyr': '2023', 'hgt': '151cm', 'pid': '289923625'}\n",
      "{'iyr': '2017', 'ecl': 'blu', 'byr': '1942', 'hcl': '#733820', 'eyr': '2023', 'hgt': '151cm', 'pid': '289923625'}\n",
      "{'iyr': '2017', 'ecl': 'blu', 'byr': '1942', 'hcl': '#733820', 'eyr': '2023', 'hgt': '151cm', 'pid': '289923625'}\n",
      "{'iyr': '2017', 'ecl': 'blu', 'byr': '1942', 'hcl': '#733820', 'eyr': '2023', 'hgt': '151cm', 'pid': '289923625'}\n",
      "{'iyr': '2017', 'ecl': 'blu', 'byr': '1942', 'hcl': '#733820', 'eyr': '2023', 'hgt': '151cm', 'pid': '289923625'}\n",
      "{'iyr': '2017', 'ecl': 'blu', 'byr': '1942', 'hcl': '#733820', 'eyr': '2023', 'hgt': '151cm', 'pid': '289923625'}\n",
      "{'iyr': '2017', 'ecl': 'blu', 'byr': '1942', 'hcl': '#733820', 'eyr': '2023', 'hgt': '151cm', 'pid': '289923625'}\n",
      "{'iyr': '2017', 'ecl': 'blu', 'byr': '1942', 'hcl': '#733820', 'eyr': '2023', 'hgt': '151cm', 'pid': '289923625'}\n",
      "{'iyr': '2017', 'ecl': 'blu', 'byr': '1942', 'hcl': '#733820', 'eyr': '2023', 'hgt': '151cm', 'pid': '289923625'}\n",
      "{'iyr': '2017', 'ecl': 'blu', 'byr': '1942', 'hcl': '#733820', 'eyr': '2023', 'hgt': '151cm', 'pid': '289923625'}\n",
      "{'iyr': '2017', 'ecl': 'blu', 'byr': '1942', 'hcl': '#733820', 'eyr': '2023', 'hgt': '151cm', 'pid': '289923625'}\n",
      "{'iyr': '2017', 'ecl': 'blu', 'byr': '1942', 'hcl': '#733820', 'eyr': '2023', 'hgt': '151cm', 'pid': '289923625'}\n",
      "{'iyr': '2017', 'ecl': 'blu', 'byr': '1942', 'hcl': '#733820', 'eyr': '2023', 'hgt': '151cm', 'pid': '289923625'}\n",
      "{'iyr': '2017', 'ecl': 'blu', 'byr': '1942', 'hcl': '#733820', 'eyr': '2023', 'hgt': '151cm', 'pid': '289923625'}\n",
      "{'iyr': '2017', 'ecl': 'blu', 'byr': '1942', 'hcl': '#733820', 'eyr': '2023', 'hgt': '151cm', 'pid': '289923625'}\n",
      "{'iyr': '2017', 'ecl': 'blu', 'byr': '1942', 'hcl': '#733820', 'eyr': '2023', 'hgt': '151cm', 'pid': '289923625'}\n",
      "{'iyr': '2017', 'ecl': 'blu', 'byr': '1942', 'hcl': '#733820', 'eyr': '2023', 'hgt': '151cm', 'pid': '289923625'}\n",
      "{'iyr': '2017', 'ecl': 'blu', 'byr': '1942', 'hcl': '#733820', 'eyr': '2023', 'hgt': '151cm', 'pid': '289923625'}\n",
      "{'iyr': '2017', 'ecl': 'blu', 'byr': '1942', 'hcl': '#733820', 'eyr': '2023', 'hgt': '151cm', 'pid': '289923625'}\n",
      "{'iyr': '2017', 'ecl': 'blu', 'byr': '1942', 'hcl': '#733820', 'eyr': '2023', 'hgt': '151cm', 'pid': '289923625'}\n",
      "{'iyr': '2017', 'ecl': 'blu', 'byr': '1942', 'hcl': '#733820', 'eyr': '2023', 'hgt': '151cm', 'pid': '289923625'}\n",
      "{'iyr': '2017', 'ecl': 'blu', 'byr': '1942', 'hcl': '#733820', 'eyr': '2023', 'hgt': '151cm', 'pid': '289923625'}\n",
      "{'iyr': '2017', 'ecl': 'blu', 'byr': '1942', 'hcl': '#733820', 'eyr': '2023', 'hgt': '151cm', 'pid': '289923625'}\n",
      "{'iyr': '2017', 'ecl': 'blu', 'byr': '1942', 'hcl': '#733820', 'eyr': '2023', 'hgt': '151cm', 'pid': '289923625'}\n",
      "{'iyr': '2017', 'ecl': 'blu', 'byr': '1942', 'hcl': '#733820', 'eyr': '2023', 'hgt': '151cm', 'pid': '289923625'}\n",
      "{'iyr': '2017', 'ecl': 'blu', 'byr': '1942', 'hcl': '#733820', 'eyr': '2023', 'hgt': '151cm', 'pid': '289923625'}\n",
      "{'iyr': '2017', 'ecl': 'blu', 'byr': '1942', 'hcl': '#733820', 'eyr': '2023', 'hgt': '151cm', 'pid': '289923625'}\n",
      "{'iyr': '2017', 'ecl': 'blu', 'byr': '1942', 'hcl': '#733820', 'eyr': '2023', 'hgt': '151cm', 'pid': '289923625'}\n",
      "{'iyr': '2017', 'ecl': 'blu', 'byr': '1942', 'hcl': '#733820', 'eyr': '2023', 'hgt': '151cm', 'pid': '289923625'}\n",
      "{'iyr': '2017', 'ecl': 'blu', 'byr': '1942', 'hcl': '#733820', 'eyr': '2023', 'hgt': '151cm', 'pid': '289923625'}\n",
      "{'iyr': '2017', 'ecl': 'blu', 'byr': '1942', 'hcl': '#733820', 'eyr': '2023', 'hgt': '151cm', 'pid': '289923625'}\n",
      "{'iyr': '2017', 'ecl': 'blu', 'byr': '1942', 'hcl': '#733820', 'eyr': '2023', 'hgt': '151cm', 'pid': '289923625'}\n",
      "{'iyr': '2017', 'ecl': 'blu', 'byr': '1942', 'hcl': '#733820', 'eyr': '2023', 'hgt': '151cm', 'pid': '289923625'}\n",
      "{'iyr': '2017', 'ecl': 'blu', 'byr': '1942', 'hcl': '#733820', 'eyr': '2023', 'hgt': '151cm', 'pid': '289923625'}\n",
      "{'iyr': '2017', 'ecl': 'blu', 'byr': '1942', 'hcl': '#733820', 'eyr': '2023', 'hgt': '151cm', 'pid': '289923625'}\n",
      "{'iyr': '2017', 'ecl': 'blu', 'byr': '1942', 'hcl': '#733820', 'eyr': '2023', 'hgt': '151cm', 'pid': '289923625'}\n"
     ]
    },
    {
     "data": {
      "text/plain": [
       "101"
      ]
     },
     "execution_count": 17,
     "metadata": {},
     "output_type": "execute_result"
    }
   ],
   "source": [
    "valid_pass_count2 = 0\n",
    "for v in valid_passports:\n",
    "     if (int(v['byr']) >= 1920 and int(v['byr']) <= 2002) \\\n",
    "     and (int(v['iyr']) >= 2010 and int(v['iyr']) <= 2020) \\\n",
    "     and (int(v['eyr']) >= 2020 and int(v['eyr']) <= 2030) \\\n",
    "     and (('cm' in v['hgt'] and int(v['hgt'][:-2]) >= 150 and int(v['hgt'][:-2]) <= 193) \\\n",
    "          or ('in' in v['hgt'] and int(v['hgt'][:-2]) >= 59 and int(v['hgt'][:-2]) <= 76)) \\\n",
    "     and haircolorcheck(v['hcl']) and eyecolorcheck(v['ecl']) and pidcheck(v['pid']):\n",
    "        print(p)\n",
    "        valid_pass_count2+=1\n",
    "valid_pass_count2"
   ]
  },
  {
   "cell_type": "code",
   "execution_count": 13,
   "metadata": {},
   "outputs": [],
   "source": [
    "def codecheck(hc):\n",
    "    valid = True\n",
    "    for c in hc:\n",
    "        if not c.isdigit():\n",
    "            if not(ord(c) > 96 and ord(c) < 103):\n",
    "                valid = False\n",
    "    return valid\n",
    "\n",
    "def haircolorcheck(hc):\n",
    "    \n",
    "    if hc[0] == '#' and len(hc) == 7:\n",
    "        return codecheck(hc[1:])\n",
    "    else:\n",
    "        return False"
   ]
  },
  {
   "cell_type": "code",
   "execution_count": 14,
   "metadata": {},
   "outputs": [],
   "source": [
    "def eyecolorcheck(ec):\n",
    "    return ec in ['amb', 'blu', 'brn', 'gry', 'grn', 'hzl', 'oth']"
   ]
  },
  {
   "cell_type": "code",
   "execution_count": 15,
   "metadata": {},
   "outputs": [],
   "source": [
    "def pidcheck(pid):\n",
    "    if len(pid) == 9:\n",
    "        return digitcheck(pid)\n",
    "    else:\n",
    "        return False\n",
    "                \n",
    "def digitcheck(ids):\n",
    "    valid = True\n",
    "    for i in ids:\n",
    "        if not i.isdigit():\n",
    "            valid = False\n",
    "            \n",
    "    return valid"
   ]
  },
  {
   "cell_type": "code",
   "execution_count": null,
   "metadata": {},
   "outputs": [],
   "source": []
  }
 ],
 "metadata": {
  "kernelspec": {
   "display_name": "Python 3",
   "language": "python",
   "name": "python3"
  },
  "language_info": {
   "codemirror_mode": {
    "name": "ipython",
    "version": 3
   },
   "file_extension": ".py",
   "mimetype": "text/x-python",
   "name": "python",
   "nbconvert_exporter": "python",
   "pygments_lexer": "ipython3",
   "version": "3.7.3"
  }
 },
 "nbformat": 4,
 "nbformat_minor": 4
}
