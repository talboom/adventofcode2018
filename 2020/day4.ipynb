{
 "cells": [
  {
   "cell_type": "code",
   "execution_count": 70,
   "metadata": {
    "scrolled": true
   },
   "outputs": [],
   "source": [
    "# read file\n",
    "file = open(\"input/day4.txt\",\"r\")\n",
    "\n",
    "# check file mode and readlines\n",
    "if file.mode == 'r':\n",
    "    data = file.read().splitlines()"
   ]
  },
  {
   "cell_type": "code",
   "execution_count": 71,
   "metadata": {},
   "outputs": [],
   "source": [
    "passport = dict()\n",
    "passports = []\n",
    "for d in data:\n",
    "    if d != '':\n",
    "        parts = d.split()\n",
    "        for p in parts:\n",
    "            key , value = p.split(\":\",2)\n",
    "            passport[key] = value\n",
    "    else:\n",
    "        passports.append(passport)\n",
    "        passport = dict()\n",
    "passports.append(passport)\n"
   ]
  },
  {
   "cell_type": "code",
   "execution_count": 73,
   "metadata": {},
   "outputs": [
    {
     "data": {
      "text/plain": [
       "192"
      ]
     },
     "execution_count": 73,
     "metadata": {},
     "output_type": "execute_result"
    }
   ],
   "source": [
    "def validate(p):\n",
    "    required_fields = [\"byr\",\"iyr\",\"eyr\",\"hgt\",\"hcl\",\"ecl\",\"pid\"]\n",
    "    keys = p.keys()\n",
    "    for f in required_fields:\n",
    "        if f not in keys:\n",
    "            return 0\n",
    "    return 1\n",
    "\n",
    "valid = 0\n",
    "for p in passports:\n",
    "    valid += validate(p)\n",
    "valid"
   ]
  },
  {
   "cell_type": "code",
   "execution_count": 80,
   "metadata": {},
   "outputs": [
    {
     "name": "stdout",
     "output_type": "stream",
     "text": [
      "{'byr': '1971', 'ecl': 'hzl', 'pid': '112040163', 'eyr': '2023', 'iyr': '2019', 'hcl': '#b6652a', 'hgt': '167cm'}\n",
      "{'pid': '108667812', 'eyr': '2023', 'hcl': '#623a2f', 'hgt': '171cm', 'iyr': '2018', 'ecl': 'amb', 'byr': '1993'}\n",
      "{'byr': '1972', 'cid': '271', 'iyr': '2016', 'pid': '876104259', 'hgt': '173cm', 'eyr': '2028', 'ecl': 'brn', 'hcl': '#733820'}\n",
      "{'hgt': '174cm', 'ecl': 'gry', 'iyr': '2014', 'eyr': '2029', 'hcl': '#c0946f', 'byr': '1967', 'pid': '406306240'}\n",
      "{'pid': '293598838', 'byr': '1960', 'cid': '87', 'iyr': '2018', 'ecl': 'blu', 'eyr': '2029', 'hcl': '#7d3b0c', 'hgt': '62in'}\n",
      "{'hcl': '#888785', 'pid': '308480529', 'iyr': '2010', 'byr': '1988', 'eyr': '2025', 'hgt': '176cm', 'ecl': 'amb'}\n",
      "{'iyr': '2015', 'byr': '1941', 'pid': '140123640', 'ecl': 'amb', 'hgt': '153cm', 'hcl': '#ceb3a1', 'eyr': '2020'}\n",
      "{'ecl': 'grn', 'cid': '202', 'hcl': '#602927', 'eyr': '2029', 'hgt': '180cm', 'byr': '1974', 'pid': '658341964', 'iyr': '2017'}\n",
      "{'byr': '1956', 'hcl': '#efcc98', 'hgt': '190cm', 'iyr': '2010', 'eyr': '2023', 'ecl': 'amb', 'cid': '342', 'pid': '278521396'}\n",
      "{'hgt': '169cm', 'ecl': 'gry', 'iyr': '2015', 'eyr': '2025', 'hcl': '#733820', 'pid': '240085824', 'byr': '1920'}\n",
      "{'iyr': '2018', 'hcl': '#18171d', 'ecl': 'brn', 'byr': '1933', 'pid': '514517439', 'hgt': '171cm', 'eyr': '2028'}\n",
      "{'hgt': '169cm', 'iyr': '2014', 'ecl': 'oth', 'eyr': '2029', 'pid': '348737413', 'hcl': '#b6652a', 'byr': '1997'}\n",
      "{'hgt': '181cm', 'cid': '315', 'eyr': '2021', 'iyr': '2016', 'byr': '1966', 'ecl': 'oth', 'pid': '779435812', 'hcl': '#733820'}\n",
      "{'eyr': '2023', 'hgt': '172cm', 'iyr': '2012', 'hcl': '#a97842', 'ecl': 'hzl', 'byr': '1982', 'pid': '638759541'}\n",
      "{'iyr': '2017', 'eyr': '2021', 'ecl': 'gry', 'byr': '1979', 'hgt': '168cm', 'hcl': '#6b5442', 'pid': '950995084'}\n",
      "{'ecl': 'blu', 'iyr': '2012', 'byr': '1972', 'hcl': '#888785', 'eyr': '2022', 'hgt': '179cm', 'pid': '293827532'}\n",
      "{'hgt': '179cm', 'ecl': 'hzl', 'iyr': '2011', 'byr': '1982', 'eyr': '2020', 'hcl': '#efcc98', 'cid': '209', 'pid': '626732917'}\n",
      "{'hgt': '64in', 'cid': '202', 'eyr': '2023', 'ecl': 'gry', 'hcl': '#c0946f', 'pid': '212611149', 'byr': '1928', 'iyr': '2010'}\n",
      "{'hgt': '183cm', 'hcl': '#e8fa30', 'ecl': 'oth', 'eyr': '2021', 'byr': '1943', 'pid': '667658434', 'iyr': '2010'}\n",
      "{'ecl': 'brn', 'hcl': '#888785', 'pid': '495215177', 'byr': '1962', 'eyr': '2021', 'cid': '192', 'hgt': '151cm', 'iyr': '2012'}\n",
      "{'hgt': '191cm', 'byr': '1960', 'pid': '752655640', 'hcl': '#888785', 'cid': '249', 'ecl': 'blu', 'iyr': '2012', 'eyr': '2028'}\n",
      "{'eyr': '2020', 'ecl': 'oth', 'byr': '1951', 'pid': '080392492', 'iyr': '2015', 'hcl': '#6b5442', 'hgt': '176cm'}\n",
      "{'hgt': '162cm', 'pid': '897792747', 'byr': '1968', 'hcl': '#ceb3a1', 'ecl': 'grn', 'eyr': '2026', 'iyr': '2014'}\n",
      "{'iyr': '2013', 'ecl': 'blu', 'hcl': '#866857', 'byr': '1981', 'hgt': '157cm', 'eyr': '2025', 'pid': '216910202'}\n",
      "{'ecl': 'oth', 'byr': '1982', 'eyr': '2027', 'hgt': '65in', 'iyr': '2019', 'hcl': '#efcc98', 'cid': '224', 'pid': '854228141'}\n",
      "{'hcl': '#888785', 'iyr': '2014', 'byr': '1975', 'ecl': 'blu', 'pid': '461319017', 'cid': '229', 'eyr': '2030', 'hgt': '154cm'}\n",
      "{'byr': '1925', 'hgt': '180cm', 'hcl': '#888785', 'iyr': '2014', 'pid': '402548656', 'eyr': '2023', 'ecl': 'hzl', 'cid': '188'}\n",
      "{'eyr': '2020', 'pid': '874307939', 'hcl': '#3f85a4', 'ecl': 'gry', 'hgt': '167cm', 'byr': '1959', 'iyr': '2014'}\n",
      "{'eyr': '2026', 'hgt': '183cm', 'iyr': '2011', 'byr': '1940', 'ecl': 'blu', 'pid': '810026000', 'cid': '226', 'hcl': '#866857'}\n",
      "{'cid': '80', 'hgt': '173cm', 'pid': '735853952', 'ecl': 'gry', 'hcl': '#fffffd', 'eyr': '2025', 'iyr': '2020', 'byr': '1923'}\n",
      "{'iyr': '2016', 'hgt': '74in', 'hcl': '#18171d', 'byr': '1959', 'ecl': 'blu', 'pid': '848487392', 'eyr': '2027'}\n",
      "{'pid': '791399958', 'byr': '1956', 'eyr': '2027', 'hcl': '#602927', 'ecl': 'brn', 'iyr': '2016', 'hgt': '192cm'}\n",
      "{'ecl': 'amb', 'cid': '170', 'pid': '300188824', 'eyr': '2024', 'byr': '1954', 'hcl': '#b6652a', 'hgt': '166cm', 'iyr': '2013'}\n",
      "{'ecl': 'brn', 'eyr': '2023', 'hcl': '#b6652a', 'byr': '1948', 'hgt': '71in', 'iyr': '2015', 'pid': '575973478'}\n",
      "{'eyr': '2026', 'hgt': '180cm', 'hcl': '#866857', 'ecl': 'grn', 'iyr': '2013', 'byr': '1997', 'pid': '864648034'}\n",
      "{'ecl': 'hzl', 'iyr': '2013', 'eyr': '2024', 'hcl': '#02e17f', 'byr': '1960', 'hgt': '163cm', 'cid': '338', 'pid': '972201795'}\n",
      "{'ecl': 'hzl', 'byr': '1952', 'eyr': '2024', 'hgt': '191cm', 'pid': '229400637', 'iyr': '2011', 'hcl': '#122db6'}\n",
      "{'ecl': 'amb', 'eyr': '2025', 'hcl': '#c0946f', 'pid': '360891963', 'byr': '1925', 'iyr': '2017', 'hgt': '180cm'}\n",
      "{'eyr': '2022', 'hgt': '183cm', 'byr': '2000', 'iyr': '2016', 'hcl': '#a97842', 'ecl': 'blu', 'pid': '500935725'}\n",
      "{'eyr': '2022', 'hgt': '168cm', 'pid': '786361311', 'iyr': '2013', 'hcl': '#c0946f', 'byr': '1988', 'cid': '244', 'ecl': 'hzl'}\n",
      "{'cid': '83', 'ecl': 'amb', 'eyr': '2022', 'byr': '1947', 'iyr': '2013', 'hcl': '#cfa07d', 'hgt': '188cm', 'pid': '447734900'}\n",
      "{'iyr': '2013', 'hcl': '#602927', 'byr': '1979', 'hgt': '167cm', 'cid': '321', 'pid': '978238277', 'eyr': '2020', 'ecl': 'grn'}\n",
      "{'ecl': 'grn', 'eyr': '2029', 'hcl': '#7d3b0c', 'hgt': '158cm', 'byr': '1939', 'iyr': '2012', 'pid': '855145518'}\n",
      "{'hgt': '154cm', 'ecl': 'grn', 'iyr': '2019', 'byr': '1981', 'eyr': '2021', 'hcl': '#602927', 'cid': '80', 'pid': '427938374'}\n",
      "{'ecl': 'brn', 'iyr': '2015', 'pid': '041582949', 'cid': '180', 'byr': '1938', 'hgt': '158cm', 'hcl': '#602927', 'eyr': '2026'}\n",
      "{'iyr': '2015', 'eyr': '2025', 'ecl': 'brn', 'hgt': '180cm', 'hcl': '#b6652a', 'byr': '1938', 'pid': '752379523'}\n",
      "{'pid': '262917603', 'ecl': 'gry', 'iyr': '2012', 'hcl': '#fffffd', 'hgt': '165cm', 'eyr': '2022', 'byr': '1965'}\n",
      "{'ecl': 'gry', 'iyr': '2011', 'hgt': '167cm', 'hcl': '#fffffd', 'pid': '001642707', 'eyr': '2030', 'byr': '1952'}\n",
      "{'pid': '166477382', 'ecl': 'oth', 'byr': '1982', 'iyr': '2010', 'eyr': '2020', 'hcl': '#866857', 'hgt': '60in'}\n",
      "{'hcl': '#7d3b0c', 'iyr': '2018', 'pid': '065652921', 'byr': '1939', 'ecl': 'blu', 'hgt': '180cm', 'eyr': '2028'}\n",
      "{'iyr': '2011', 'pid': '320518492', 'eyr': '2028', 'byr': '1940', 'hgt': '164cm', 'cid': '84', 'hcl': '#341e13', 'ecl': 'grn'}\n",
      "{'byr': '1925', 'hcl': '#7d3b0c', 'ecl': 'gry', 'eyr': '2024', 'pid': '694714722', 'hgt': '158cm', 'iyr': '2015', 'cid': '283'}\n",
      "{'eyr': '2023', 'hgt': '183cm', 'cid': '345', 'hcl': '#6b5442', 'ecl': 'hzl', 'iyr': '2019', 'byr': '1971', 'pid': '458416257'}\n",
      "{'hcl': '#888785', 'eyr': '2026', 'byr': '1984', 'iyr': '2013', 'pid': '935837461', 'hgt': '193cm', 'ecl': 'gry'}\n",
      "{'iyr': '2015', 'hgt': '167cm', 'ecl': 'hzl', 'pid': '088516395', 'hcl': '#efcc98', 'byr': '1968', 'eyr': '2029'}\n",
      "{'eyr': '2028', 'iyr': '2019', 'cid': '199', 'ecl': 'amb', 'hgt': '152cm', 'byr': '1928', 'pid': '547112666', 'hcl': '#623a2f'}\n",
      "{'eyr': '2029', 'cid': '210', 'byr': '1982', 'pid': '578085789', 'ecl': 'brn', 'hgt': '187cm', 'iyr': '2010', 'hcl': '#c0946f'}\n",
      "{'byr': '1980', 'hcl': '#c0946f', 'hgt': '159cm', 'pid': '177650318', 'eyr': '2024', 'ecl': 'amb', 'iyr': '2019'}\n",
      "{'hgt': '184cm', 'hcl': '#623a2f', 'eyr': '2028', 'pid': '680951513', 'ecl': 'grn', 'iyr': '2014', 'byr': '2001'}\n",
      "{'pid': '599795227', 'iyr': '2016', 'ecl': 'grn', 'hcl': '#cfa07d', 'hgt': '157cm', 'byr': '1967', 'eyr': '2029'}\n",
      "{'hcl': '#b6652a', 'byr': '1966', 'iyr': '2017', 'pid': '117232314', 'ecl': 'oth', 'hgt': '186cm', 'eyr': '2029'}\n",
      "{'pid': '605019880', 'iyr': '2020', 'hgt': '169cm', 'byr': '1980', 'hcl': '#623a2f', 'ecl': 'hzl', 'eyr': '2030'}\n",
      "{'cid': '311', 'byr': '1998', 'ecl': 'hzl', 'eyr': '2027', 'hgt': '152cm', 'pid': '734870801', 'hcl': '#7d3b0c', 'iyr': '2013'}\n",
      "{'hgt': '182cm', 'iyr': '2019', 'hcl': '#866857', 'ecl': 'grn', 'byr': '1926', 'eyr': '2029', 'pid': '307880154', 'cid': '94'}\n",
      "{'eyr': '2020', 'hcl': '#c0946f', 'ecl': 'amb', 'pid': '135511825', 'byr': '1954', 'hgt': '68in', 'iyr': '2017'}\n",
      "{'hgt': '188cm', 'ecl': 'amb', 'iyr': '2011', 'pid': '949021029', 'eyr': '2028', 'hcl': '#fffffd', 'byr': '1986'}\n",
      "{'hcl': '#c0946f', 'ecl': 'grn', 'iyr': '2013', 'eyr': '2024', 'pid': '420295283', 'hgt': '181cm', 'byr': '1977'}\n",
      "{'byr': '1941', 'pid': '299186098', 'hcl': '#f1fa72', 'iyr': '2013', 'ecl': 'amb', 'eyr': '2022', 'hgt': '152cm', 'cid': '150'}\n",
      "{'hcl': '#341e13', 'hgt': '188cm', 'ecl': 'blu', 'pid': '868930517', 'eyr': '2029', 'iyr': '2010', 'byr': '1938'}\n",
      "{'ecl': 'brn', 'pid': '990171473', 'eyr': '2028', 'byr': '1937', 'hgt': '165cm', 'iyr': '2015', 'hcl': '#fffffd', 'cid': '68'}\n",
      "{'hgt': '185cm', 'hcl': '#7d3b0c', 'eyr': '2029', 'ecl': 'oth', 'iyr': '2016', 'byr': '1997', 'pid': '349316183'}\n",
      "{'eyr': '2024', 'hcl': '#18171d', 'ecl': 'grn', 'hgt': '160cm', 'pid': '399767457', 'byr': '1979', 'iyr': '2015'}\n",
      "{'hcl': '#c0946f', 'eyr': '2022', 'iyr': '2015', 'hgt': '157cm', 'byr': '1928', 'ecl': 'grn', 'pid': '243566446'}\n",
      "{'eyr': '2030', 'hcl': '#733820', 'byr': '1988', 'iyr': '2017', 'cid': '125', 'hgt': '193cm', 'ecl': 'amb', 'pid': '939550667'}\n",
      "{'ecl': 'amb', 'iyr': '2012', 'eyr': '2020', 'hgt': '178cm', 'pid': '590705772', 'cid': '218', 'hcl': '#c0946f', 'byr': '1922'}\n",
      "{'pid': '294223216', 'iyr': '2012', 'hgt': '171cm', 'eyr': '2027', 'hcl': '#ceb3a1', 'ecl': 'oth', 'byr': '1952', 'cid': '58'}\n",
      "{'hcl': '#888785', 'pid': '457433756', 'eyr': '2022', 'hgt': '186cm', 'cid': '336', 'byr': '1923', 'iyr': '2013', 'ecl': 'oth'}\n",
      "{'cid': '267', 'hgt': '189cm', 'eyr': '2020', 'hcl': '#ffeffd', 'iyr': '2014', 'byr': '1989', 'ecl': 'grn', 'pid': '571696542'}\n",
      "{'hgt': '174cm', 'byr': '1970', 'eyr': '2021', 'hcl': '#341e13', 'pid': '086579106', 'iyr': '2017', 'ecl': 'oth'}\n",
      "{'ecl': 'oth', 'cid': '207', 'byr': '1998', 'pid': '479696359', 'hgt': '174cm', 'iyr': '2017', 'eyr': '2020', 'hcl': '#6b5442'}\n",
      "{'ecl': 'hzl', 'iyr': '2014', 'hcl': '#cfa07d', 'hgt': '163cm', 'eyr': '2025', 'byr': '1951', 'pid': '563337128'}\n",
      "{'ecl': 'gry', 'hgt': '172cm', 'iyr': '2013', 'hcl': '#efcc98', 'byr': '1970', 'pid': '848996674', 'eyr': '2027'}\n",
      "{'hgt': '62in', 'byr': '1921', 'pid': '125944934', 'hcl': '#b6652a', 'eyr': '2025', 'cid': '71', 'iyr': '2018', 'ecl': 'blu'}\n",
      "{'iyr': '2017', 'ecl': 'brn', 'hcl': '#602927', 'hgt': '172cm', 'pid': '932690969', 'byr': '1957', 'eyr': '2026'}\n",
      "{'hcl': '#efcc98', 'pid': '709772213', 'cid': '146', 'ecl': 'oth', 'byr': '1998', 'iyr': '2010', 'hgt': '74in', 'eyr': '2029'}\n",
      "{'byr': '1965', 'iyr': '2011', 'hcl': '#6b5442', 'cid': '325', 'hgt': '68in', 'eyr': '2028', 'pid': '813272708', 'ecl': 'hzl'}\n",
      "{'hgt': '175cm', 'iyr': '2014', 'byr': '1946', 'eyr': '2025', 'cid': '159', 'hcl': '#18171d', 'ecl': 'oth', 'pid': '129913905'}\n",
      "{'ecl': 'blu', 'byr': '1981', 'cid': '160', 'iyr': '2014', 'hcl': '#a97842', 'eyr': '2021', 'hgt': '172cm', 'pid': '714902414'}\n",
      "{'hcl': '#b6652a', 'eyr': '2021', 'hgt': '168cm', 'byr': '1921', 'iyr': '2018', 'ecl': 'oth', 'pid': '021318713'}\n",
      "{'hgt': '181cm', 'byr': '1970', 'eyr': '2024', 'pid': '476171876', 'ecl': 'hzl', 'hcl': '#efcc98', 'iyr': '2019'}\n",
      "{'hcl': '#18171d', 'ecl': 'oth', 'iyr': '2018', 'byr': '1949', 'hgt': '165cm', 'eyr': '2029', 'pid': '078204562'}\n",
      "{'byr': '1936', 'pid': '444305229', 'iyr': '2013', 'eyr': '2025', 'hcl': '#733820', 'ecl': 'gry', 'hgt': '175cm'}\n",
      "{'pid': '321400085', 'hcl': '#733820', 'hgt': '189cm', 'ecl': 'hzl', 'byr': '1923', 'eyr': '2023', 'iyr': '2016'}\n",
      "{'eyr': '2021', 'iyr': '2011', 'pid': '265966660', 'byr': '1934', 'hgt': '180cm', 'hcl': '#7d3b0c', 'ecl': 'gry', 'cid': '225'}\n",
      "{'pid': '550612542', 'ecl': 'oth', 'byr': '1931', 'iyr': '2014', 'cid': '99', 'hcl': '#cfa07d', 'hgt': '163cm', 'eyr': '2026'}\n",
      "{'ecl': 'gry', 'hgt': '156cm', 'iyr': '2018', 'hcl': '#5d9d64', 'pid': '295386055', 'byr': '1996', 'eyr': '2025'}\n",
      "{'hcl': '#888785', 'byr': '1935', 'iyr': '2018', 'hgt': '155cm', 'ecl': 'grn', 'pid': '612879095', 'cid': '108', 'eyr': '2027'}\n",
      "{'cid': '244', 'hgt': '171cm', 'hcl': '#cfa07d', 'pid': '466737179', 'eyr': '2025', 'byr': '1937', 'iyr': '2020', 'ecl': 'oth'}\n",
      "{'ecl': 'brn', 'byr': '1993', 'hgt': '179cm', 'hcl': '#341e13', 'pid': '855375268', 'eyr': '2028', 'iyr': '2018'}\n",
      "{'pid': '809135189', 'iyr': '2020', 'hgt': '162cm', 'eyr': '2027', 'hcl': '#888785', 'byr': '1988', 'ecl': 'grn'}\n",
      "{'iyr': '2017', 'ecl': 'blu', 'byr': '1942', 'hcl': '#733820', 'eyr': '2023', 'hgt': '151cm', 'pid': '289923625'}\n"
     ]
    },
    {
     "data": {
      "text/plain": [
       "101"
      ]
     },
     "execution_count": 80,
     "metadata": {},
     "output_type": "execute_result"
    }
   ],
   "source": [
    "import re\n",
    "\n",
    "def validate2(p):    \n",
    "    if validate(p) == 0:\n",
    "        return 0\n",
    "    if not (int(p[\"byr\"])>=1920 and int(p[\"byr\"]) <=2002):\n",
    "#         print(\"byr is %s\" % p[\"byr\"])\n",
    "        return 0\n",
    "    if not (int(p[\"iyr\"])>=2010 and int(p[\"iyr\"]) <=2020):\n",
    "#         print(\"iyr is %s\" % p[\"iyr\"])\n",
    "        return 0\n",
    "    if not (int(p[\"eyr\"])>=2020 and int(p[\"eyr\"]) <=2030):\n",
    "#         print(\"eyr is %s\" % p[\"eyr\"])\n",
    "        return 0\n",
    "    \n",
    "    if (p[\"hgt\"][-2:] != 'in' and p[\"hgt\"][-2:] != 'cm'):\n",
    "#         print(\"hgt is %s\" % p[\"hgt\"])\n",
    "        return 0\n",
    "    if p[\"hgt\"][-2:] == 'in': \n",
    "        if not (int(p[\"hgt\"][:-2]) >=59 and int(p[\"hgt\"][:-2]) <=76):\n",
    "#             print(\"hgt is %s\" % p[\"hgt\"])\n",
    "            return 0\n",
    "    if p[\"hgt\"][-2:] == 'cm': \n",
    "        if not (int(p[\"hgt\"][:-2]) >=150 and int(p[\"hgt\"][:-2]) <=193):\n",
    "#             print(\"hgt is %s\" % p[\"hgt\"])\n",
    "            return 0\n",
    "  \n",
    "    if not p[\"hcl\"][0] == \"#\":\n",
    "#         print(\"hcl is %s\" % p[\"hcl\"])\n",
    "        return 0\n",
    "    if not re.search(r'[a-f0-9]{6}',p[\"hcl\"][1:]):\n",
    "#         print(\"hcl is %s\" % p[\"hcl\"])\n",
    "        return 0\n",
    "    if not len(p[\"hcl\"][1:]) == 6:\n",
    "#         print(\"hcl is %s\" % p[\"hcl\"])\n",
    "        return 0\n",
    "    \n",
    "    if p[\"ecl\"] not in [\"amb\",\"blu\",\"brn\",\"gry\",\"grn\",\"hzl\",\"oth\"]:\n",
    "#         print(\"ecl is %s\" % p[\"ecl\"])\n",
    "        return 0\n",
    "    \n",
    "    if not re.search(r'[0-9]{9}',p[\"pid\"]):\n",
    "        return 0\n",
    "    if not len(p[\"pid\"]) == 9:\n",
    "        return 0\n",
    "    \n",
    "    print(p)\n",
    "    return 1\n",
    "\n",
    "valid = 0\n",
    "for p in passports:\n",
    "    valid += validate2(p)\n",
    "\n",
    "valid"
   ]
  },
  {
   "cell_type": "code",
   "execution_count": 51,
   "metadata": {},
   "outputs": [
    {
     "name": "stdout",
     "output_type": "stream",
     "text": [
      "<re.Match object; span=(0, 6), match='f1234f'>\n"
     ]
    }
   ],
   "source": [
    "import re\n",
    "print(re.search(r'[a-f0-9]{6}',\"f1234f\"))"
   ]
  },
  {
   "cell_type": "code",
   "execution_count": null,
   "metadata": {},
   "outputs": [],
   "source": []
  },
  {
   "cell_type": "code",
   "execution_count": null,
   "metadata": {},
   "outputs": [],
   "source": []
  }
 ],
 "metadata": {
  "kernelspec": {
   "display_name": "Python 3",
   "language": "python",
   "name": "python3"
  },
  "language_info": {
   "codemirror_mode": {
    "name": "ipython",
    "version": 3
   },
   "file_extension": ".py",
   "mimetype": "text/x-python",
   "name": "python",
   "nbconvert_exporter": "python",
   "pygments_lexer": "ipython3",
   "version": "3.7.3"
  }
 },
 "nbformat": 4,
 "nbformat_minor": 2
}
