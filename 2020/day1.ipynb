{
 "cells": [
  {
   "cell_type": "raw",
   "metadata": {},
   "source": [
    "Day 1"
   ]
  },
  {
   "cell_type": "code",
   "execution_count": null,
   "metadata": {},
   "outputs": [],
   "source": [
    "# read file\n",
    "file = open(\"input/day1.txt\",\"r\")\n",
    "\n",
    "# check file mode and readlines\n",
    "if file.mode == 'r':\n",
    "    data = file.read().split()\n",
    "data = [int(i) for i in data] "
   ]
  },
  {
   "cell_type": "code",
   "execution_count": null,
   "metadata": {},
   "outputs": [],
   "source": [
    "# Part 1\n",
    "for a in data:\n",
    "    for b in data:\n",
    "        if (a+b == 2020):\n",
    "            print(a*b)\n",
    "            break\n",
    "    if (a+b == 2020):\n",
    "        break       "
   ]
  },
  {
   "cell_type": "code",
   "execution_count": null,
   "metadata": {},
   "outputs": [],
   "source": [
    "# Part 2\n",
    "for a in data:\n",
    "    for b in data:\n",
    "        for c in data:\n",
    "            if (a+b+c == 2020):\n",
    "                print(a*b*c)\n",
    "                break\n",
    "                \n",
    "        if (a+b+c == 2020):\n",
    "            break\n",
    "    if (a+b+c == 2020):\n",
    "        break\n"
   ]
  }
 ],
 "metadata": {
  "kernelspec": {
   "display_name": "Python 3",
   "language": "python",
   "name": "python3"
  },
  "language_info": {
   "codemirror_mode": {
    "name": "ipython",
    "version": 3
   },
   "file_extension": ".py",
   "mimetype": "text/x-python",
   "name": "python",
   "nbconvert_exporter": "python",
   "pygments_lexer": "ipython3",
   "version": "3.7.3"
  }
 },
 "nbformat": 4,
 "nbformat_minor": 2
}
