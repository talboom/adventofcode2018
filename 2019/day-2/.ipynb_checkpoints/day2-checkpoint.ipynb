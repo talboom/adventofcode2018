{
 "cells": [
  {
   "cell_type": "code",
   "execution_count": 15,
   "metadata": {},
   "outputs": [
    {
     "name": "stdout",
     "output_type": "stream",
     "text": [
      "Answer: 6087827\n"
     ]
    }
   ],
   "source": [
    "## PART 1\n",
    "\n",
    "# read file\n",
    "file = open(\"input.txt\",\"r\")\n",
    "\n",
    "# check file mode and readlines\n",
    "if file.mode == 'r':\n",
    "    data = file.read().splitlines()\n",
    "    \n",
    "integers = list(map(int, data[0].split(',')))\n",
    "# integers = [1,9,10,3,2,3,11,0,99,30,40,50]\n",
    "\n",
    "integers[1:3] = [12,2]\n",
    "i = 0\n",
    "a = 0\n",
    "while a != 99:\n",
    "    a = integers[i]\n",
    "    b = integers[i+1]\n",
    "    c = integers[i+2]\n",
    "    d = integers[i+3]\n",
    "    if a == 1:\n",
    "        integers[d] = integers[b]+integers[c]\n",
    "    elif a == 2:\n",
    "        integers[d] = integers[b]*integers[c]\n",
    "    i += 4\n",
    "answer_part_1 = integers[0]\n",
    "print(\"Answer: %i\" % answer_part_1)"
   ]
  },
  {
   "cell_type": "code",
   "execution_count": 28,
   "metadata": {},
   "outputs": [
    {
     "name": "stdout",
     "output_type": "stream",
     "text": [
      "1\n",
      "12\n",
      "Output: 6087826\n",
      "6087826\n",
      "42\n",
      "90\n",
      "Output: 31966395\n",
      "25878569\n",
      "83\n",
      "168\n"
     ]
    },
    {
     "ename": "IndexError",
     "evalue": "list index out of range",
     "output_type": "error",
     "traceback": [
      "\u001b[1;31m---------------------------------------------------------------------------\u001b[0m",
      "\u001b[1;31mIndexError\u001b[0m                                Traceback (most recent call last)",
      "\u001b[1;32m<ipython-input-28-c5bc9fec5599>\u001b[0m in \u001b[0;36m<module>\u001b[1;34m\u001b[0m\n\u001b[0;32m     33\u001b[0m         \u001b[0md\u001b[0m \u001b[1;33m=\u001b[0m \u001b[0mintegers\u001b[0m\u001b[1;33m[\u001b[0m\u001b[0mi\u001b[0m\u001b[1;33m+\u001b[0m\u001b[1;36m3\u001b[0m\u001b[1;33m]\u001b[0m\u001b[1;33m\u001b[0m\u001b[1;33m\u001b[0m\u001b[0m\n\u001b[0;32m     34\u001b[0m         \u001b[1;32mif\u001b[0m \u001b[0ma\u001b[0m \u001b[1;33m==\u001b[0m \u001b[1;36m1\u001b[0m\u001b[1;33m:\u001b[0m\u001b[1;33m\u001b[0m\u001b[1;33m\u001b[0m\u001b[0m\n\u001b[1;32m---> 35\u001b[1;33m             \u001b[0mintegers\u001b[0m\u001b[1;33m[\u001b[0m\u001b[0md\u001b[0m\u001b[1;33m]\u001b[0m \u001b[1;33m=\u001b[0m \u001b[0mintegers\u001b[0m\u001b[1;33m[\u001b[0m\u001b[0mb\u001b[0m\u001b[1;33m]\u001b[0m\u001b[1;33m+\u001b[0m\u001b[0mintegers\u001b[0m\u001b[1;33m[\u001b[0m\u001b[0mc\u001b[0m\u001b[1;33m]\u001b[0m\u001b[1;33m\u001b[0m\u001b[1;33m\u001b[0m\u001b[0m\n\u001b[0m\u001b[0;32m     36\u001b[0m         \u001b[1;32melif\u001b[0m \u001b[0ma\u001b[0m \u001b[1;33m==\u001b[0m \u001b[1;36m2\u001b[0m\u001b[1;33m:\u001b[0m\u001b[1;33m\u001b[0m\u001b[1;33m\u001b[0m\u001b[0m\n\u001b[0;32m     37\u001b[0m             \u001b[0mintegers\u001b[0m\u001b[1;33m[\u001b[0m\u001b[0md\u001b[0m\u001b[1;33m]\u001b[0m \u001b[1;33m=\u001b[0m \u001b[0mintegers\u001b[0m\u001b[1;33m[\u001b[0m\u001b[0mb\u001b[0m\u001b[1;33m]\u001b[0m\u001b[1;33m*\u001b[0m\u001b[0mintegers\u001b[0m\u001b[1;33m[\u001b[0m\u001b[0mc\u001b[0m\u001b[1;33m]\u001b[0m\u001b[1;33m\u001b[0m\u001b[1;33m\u001b[0m\u001b[0m\n",
      "\u001b[1;31mIndexError\u001b[0m: list index out of range"
     ]
    }
   ],
   "source": [
    "## PART 2\n",
    "\n",
    "# read file\n",
    "file = open(\"input.txt\",\"r\")\n",
    "\n",
    "# check file mode and readlines\n",
    "if file.mode == 'r':\n",
    "    data = file.read().splitlines()\n",
    "integers = list(map(int, data[0].split(',')))\n",
    "\n",
    "noun = 12\n",
    "verb = 2\n",
    "new_noun = 53 # by trial and error...\n",
    "new_verb = 79 # by trial and error...\n",
    "desired_output = 19690720\n",
    "             \n",
    "old_answer = 0\n",
    "while integers[0] != desired_output:\n",
    "    verb = new_verb\n",
    "    noun = new_noun\n",
    "    print(verb)\n",
    "    print(noun)\n",
    "    integers = list(map(int, data[0].split(',')))\n",
    "    # integers = [1,9,10,3,2,3,11,0,99,30,40,50]\n",
    "\n",
    "    integers[1:3] = [noun,verb]\n",
    "    i = 0\n",
    "    a = 0\n",
    "    while a != 99:\n",
    "        a = integers[i]\n",
    "        b = integers[i+1]\n",
    "        c = integers[i+2]\n",
    "        d = integers[i+3]\n",
    "        if a == 1:\n",
    "            integers[d] = integers[b]+integers[c]\n",
    "        elif a == 2:\n",
    "            integers[d] = integers[b]*integers[c]\n",
    "        i += 4\n",
    "    print(\"Output: %i\" % integers[0])\n",
    "    print(integers[0] - old_answer)   \n",
    "    old_answer = integers[0]\n",
    "\n",
    "    new_verb = verb + int((desired_output-answer_part_1) /331776) # verb impact: +331776\n",
    "    new_noun = noun + (desired_output-answer_part_1) %331776 + 1 # noun impact: +1\n",
    "\n",
    "answer_part_2 = 100*noun+verb\n",
    "print(\"Answer: %i\" % answer_part_2)"
   ]
  },
  {
   "cell_type": "code",
   "execution_count": 19,
   "metadata": {},
   "outputs": [
    {
     "data": {
      "text/plain": [
       "53"
      ]
     },
     "execution_count": 19,
     "metadata": {},
     "output_type": "execute_result"
    }
   ],
   "source": [
    "verb"
   ]
  },
  {
   "cell_type": "code",
   "execution_count": 21,
   "metadata": {},
   "outputs": [
    {
     "data": {
      "text/plain": [
       "7953"
      ]
     },
     "execution_count": 21,
     "metadata": {},
     "output_type": "execute_result"
    }
   ],
   "source": [
    "100*noun+verb"
   ]
  },
  {
   "cell_type": "code",
   "execution_count": 22,
   "metadata": {},
   "outputs": [
    {
     "data": {
      "text/plain": [
       "79"
      ]
     },
     "execution_count": 22,
     "metadata": {},
     "output_type": "execute_result"
    }
   ],
   "source": [
    "noun"
   ]
  },
  {
   "cell_type": "code",
   "execution_count": 14,
   "metadata": {},
   "outputs": [
    {
     "data": {
      "text/plain": [
       "4253"
      ]
     },
     "execution_count": 14,
     "metadata": {},
     "output_type": "execute_result"
    }
   ],
   "source": [
    "100*42+12+41"
   ]
  },
  {
   "cell_type": "code",
   "execution_count": null,
   "metadata": {},
   "outputs": [],
   "source": []
  }
 ],
 "metadata": {
  "kernelspec": {
   "display_name": "Python 3",
   "language": "python",
   "name": "python3"
  },
  "language_info": {
   "codemirror_mode": {
    "name": "ipython",
    "version": 3
   },
   "file_extension": ".py",
   "mimetype": "text/x-python",
   "name": "python",
   "nbconvert_exporter": "python",
   "pygments_lexer": "ipython3",
   "version": "3.7.3"
  }
 },
 "nbformat": 4,
 "nbformat_minor": 2
}
