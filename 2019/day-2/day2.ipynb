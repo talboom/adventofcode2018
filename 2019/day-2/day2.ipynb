{
 "cells": [
  {
   "cell_type": "code",
   "execution_count": 15,
   "metadata": {},
   "outputs": [
    {
     "name": "stdout",
     "output_type": "stream",
     "text": [
      "Answer: 6087827\n"
     ]
    }
   ],
   "source": [
    "## PART 1\n",
    "\n",
    "# read file\n",
    "file = open(\"input.txt\",\"r\")\n",
    "\n",
    "# check file mode and readlines\n",
    "if file.mode == 'r':\n",
    "    data = file.read().splitlines()\n",
    "    \n",
    "integers = list(map(int, data[0].split(',')))\n",
    "# integers = [1,9,10,3,2,3,11,0,99,30,40,50]\n",
    "\n",
    "integers[1:3] = [12,2]\n",
    "i = 0\n",
    "a = 0\n",
    "while a != 99:\n",
    "    a = integers[i]\n",
    "    b = integers[i+1]\n",
    "    c = integers[i+2]\n",
    "    d = integers[i+3]\n",
    "    if a == 1:\n",
    "        integers[d] = integers[b]+integers[c]\n",
    "    elif a == 2:\n",
    "        integers[d] = integers[b]*integers[c]\n",
    "    i += 4\n",
    "answer_part_1 = integers[0]\n",
    "print(\"Answer: %i\" % answer_part_1)"
   ]
  },
  {
   "cell_type": "code",
   "execution_count": 29,
   "metadata": {},
   "outputs": [
    {
     "name": "stdout",
     "output_type": "stream",
     "text": [
      "79\n",
      "53\n",
      "Output: 19690720\n",
      "19690720\n",
      "Answer: 5379\n"
     ]
    }
   ],
   "source": [
    "## PART 2\n",
    "\n",
    "# read file\n",
    "file = open(\"input.txt\",\"r\")\n",
    "\n",
    "# check file mode and readlines\n",
    "if file.mode == 'r':\n",
    "    data = file.read().splitlines()\n",
    "integers = list(map(int, data[0].split(',')))\n",
    "\n",
    "noun = 12\n",
    "verb = 2\n",
    "new_noun = 53 # by trial and error...\n",
    "new_verb = 79 # by trial and error...\n",
    "desired_output = 19690720\n",
    "             \n",
    "old_answer = 0\n",
    "while integers[0] != desired_output:\n",
    "    verb = new_verb\n",
    "    noun = new_noun\n",
    "    print(verb)\n",
    "    print(noun)\n",
    "    integers = list(map(int, data[0].split(',')))\n",
    "    # integers = [1,9,10,3,2,3,11,0,99,30,40,50]\n",
    "\n",
    "    integers[1:3] = [noun,verb]\n",
    "    i = 0\n",
    "    a = 0\n",
    "    while a != 99:\n",
    "        a = integers[i]\n",
    "        b = integers[i+1]\n",
    "        c = integers[i+2]\n",
    "        d = integers[i+3]\n",
    "        if a == 1:\n",
    "            integers[d] = integers[b]+integers[c]\n",
    "        elif a == 2:\n",
    "            integers[d] = integers[b]*integers[c]\n",
    "        i += 4\n",
    "    print(\"Output: %i\" % integers[0])\n",
    "    print(integers[0] - old_answer)   \n",
    "    old_answer = integers[0]\n",
    "\n",
    "    new_verb = verb + int((desired_output-answer_part_1) /331776) # verb impact: +331776\n",
    "    new_noun = noun + (desired_output-answer_part_1) %331776 + 1 # noun impact: +1\n",
    "\n",
    "answer_part_2 = 100*noun+verb\n",
    "print(\"Answer: %i\" % answer_part_2)"
   ]
  }
 ],
 "metadata": {
  "kernelspec": {
   "display_name": "Python 3",
   "language": "python",
   "name": "python3"
  },
  "language_info": {
   "codemirror_mode": {
    "name": "ipython",
    "version": 3
   },
   "file_extension": ".py",
   "mimetype": "text/x-python",
   "name": "python",
   "nbconvert_exporter": "python",
   "pygments_lexer": "ipython3",
   "version": "3.7.3"
  }
 },
 "nbformat": 4,
 "nbformat_minor": 2
}
