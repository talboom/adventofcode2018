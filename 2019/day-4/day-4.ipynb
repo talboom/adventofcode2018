{
 "cells": [
  {
   "cell_type": "code",
   "execution_count": 72,
   "metadata": {},
   "outputs": [
    {
     "name": "stdout",
     "output_type": "stream",
     "text": [
      "Answer: 481\n"
     ]
    }
   ],
   "source": [
    "# PART 1 - Day 4: Secure Container\n",
    "\n",
    "inputRange = [372037,905157]\n",
    "possible_options = []\n",
    "for inputOption in range(inputRange[0],inputRange[1]):\n",
    "    # It is a six-digit number. --> Check\n",
    "    # The value is within the range given in your puzzle input. --> Check\n",
    "    \n",
    "    # Two adjacent d are the same (like 22 in 122345).\n",
    "    d = str(inputOption)\n",
    "    twoAdjacentdigits = False\n",
    "    for i in range(5):\n",
    "        if d[i] == d[i+1]:\n",
    "            twoAdjacentdigits = True\n",
    "\n",
    "    # Going from left to right, the d never decrease; they only ever increase or stay the same (like 111123 or 135679).\n",
    "    leftToRightNeverDecrease = int(d[0]) <= int(d[1]) and int(d[1]) <= int(d[2]) and int(d[2]) <= int(d[3]) and int(d[3]) <= int(d[4]) and int(d[4]) <= int(d[5])\n",
    "    \n",
    "    if twoAdjacentdigits and leftToRightNeverDecrease:\n",
    "        possible_options.append(inputOption)\n",
    "\n",
    "print(\"Answer: %i\" % len(possible_options))"
   ]
  },
  {
   "cell_type": "code",
   "execution_count": 80,
   "metadata": {},
   "outputs": [
    {
     "name": "stdout",
     "output_type": "stream",
     "text": [
      "Answer: 299\n"
     ]
    }
   ],
   "source": [
    "# PART 2 - Day 4: Secure Container\n",
    "\n",
    "possible_options_v2 = []\n",
    "for inputOption in possible_options:\n",
    "    # are not part of a larger group of matching digits\n",
    "    digits = str(inputOption)\n",
    "    notPartOfLargGroup = False\n",
    "    ld = None\n",
    "    count = 1\n",
    "    for d in digits:\n",
    "        if d == ld:\n",
    "            count += 1\n",
    "        else:\n",
    "            if count == 2:\n",
    "                notPartOfLargGroup = True\n",
    "                break\n",
    "            count = 1\n",
    "        ld = d\n",
    "    if count == 2:\n",
    "        notPartOfLargGroup = True\n",
    "\n",
    "    if notPartOfLargGroup:\n",
    "        possible_options_v2.append(inputOption)\n",
    "print(\"Answer: %i\" % len(possible_options_v2))"
   ]
  },
  {
   "cell_type": "code",
   "execution_count": null,
   "metadata": {},
   "outputs": [],
   "source": []
  }
 ],
 "metadata": {
  "kernelspec": {
   "display_name": "Python 3",
   "language": "python",
   "name": "python3"
  },
  "language_info": {
   "codemirror_mode": {
    "name": "ipython",
    "version": 3
   },
   "file_extension": ".py",
   "mimetype": "text/x-python",
   "name": "python",
   "nbconvert_exporter": "python",
   "pygments_lexer": "ipython3",
   "version": "3.7.3"
  }
 },
 "nbformat": 4,
 "nbformat_minor": 2
}
