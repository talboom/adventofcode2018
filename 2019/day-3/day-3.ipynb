{
 "cells": [
  {
   "cell_type": "code",
   "execution_count": 33,
   "metadata": {},
   "outputs": [
    {
     "name": "stdout",
     "output_type": "stream",
     "text": [
      "Answer: 227\n"
     ]
    }
   ],
   "source": [
    "## PART 1\n",
    "import numpy as np\n",
    "\n",
    "def listToCoords(line):\n",
    "    wiregrid = {}    \n",
    "    x = 0\n",
    "    y = 0\n",
    "    length = 0\n",
    "    coords = []\n",
    "    change_x = {'R': 1, 'L': -1, 'U': 0, 'D': 0}\n",
    "    change_y = {'R': 0, 'L': 0, 'U': -1, 'D': 1}\n",
    "    \n",
    "    for l in line:\n",
    "        steps = int(l[1:])\n",
    "        for step in range(steps): \n",
    "            x += change_x[l[0]]\n",
    "            y += change_y[l[0]]\n",
    "            length += 1\n",
    "            wiregrid[(x, y)] = length\n",
    "    return wiregrid\n",
    "\n",
    "\n",
    "# read file\n",
    "file = open(\"input.txt\",\"r\")\n",
    "\n",
    "# check file mode and readlines\n",
    "if file.mode == 'r':\n",
    "    data = file.read().splitlines()\n",
    "    \n",
    "line1 = data[0].split(',')\n",
    "line2 = data[1].split(',')\n",
    "# line2 = [\"U7\",\"R6\",\"D4\",\"L4\"]\n",
    "# line1 = [\"R8\",\"U5\",\"L5\",\"D3\"]\n",
    "coordinatesLine1 = listToCoords(line1)\n",
    "coordinatesLine2 = listToCoords(line2)\n",
    "\n",
    "\n",
    "intersections = set(coordinatesLine1)&set(coordinatesLine2)\n",
    "distances =[]\n",
    "for intersect in intersections:\n",
    "    distances.append(abs(intersect[0])+abs(intersect[1]))\n",
    "distances.sort()\n",
    "answer_part_1 = distances[0]\n",
    "print(\"Answer: %i\" % answer_part_1)"
   ]
  },
  {
   "cell_type": "code",
   "execution_count": 35,
   "metadata": {},
   "outputs": [
    {
     "name": "stdout",
     "output_type": "stream",
     "text": [
      "Answer: 20286\n"
     ]
    }
   ],
   "source": [
    "lengthoverlap = []\n",
    "\n",
    "for intersect in intersections:\n",
    "    lengthoverlap.append(coordinatesLine1[intersect] + coordinatesLine2[intersect])\n",
    "    \n",
    "lengthoverlap.sort()\n",
    "\n",
    "answer_part_2 = lengthoverlap[0]\n",
    "print(\"Answer: %i\" % answer_part_2)"
   ]
  },
  {
   "cell_type": "code",
   "execution_count": null,
   "metadata": {},
   "outputs": [],
   "source": []
  }
 ],
 "metadata": {
  "kernelspec": {
   "display_name": "Python 3",
   "language": "python",
   "name": "python3"
  },
  "language_info": {
   "codemirror_mode": {
    "name": "ipython",
    "version": 3
   },
   "file_extension": ".py",
   "mimetype": "text/x-python",
   "name": "python",
   "nbconvert_exporter": "python",
   "pygments_lexer": "ipython3",
   "version": "3.7.3"
  }
 },
 "nbformat": 4,
 "nbformat_minor": 2
}
