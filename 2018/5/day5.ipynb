{
 "cells": [
  {
   "cell_type": "code",
   "execution_count": 19,
   "metadata": {},
   "outputs": [
    {
     "data": {
      "text/plain": [
       "11946"
      ]
     },
     "execution_count": 19,
     "metadata": {},
     "output_type": "execute_result"
    }
   ],
   "source": [
    "# PART 1\n",
    "\n",
    "# read file\n",
    "file = open(\"input.txt\",\"r\")\n",
    "\n",
    "# check file mode and readlines\n",
    "if file.mode == 'r':\n",
    "    data = file.read().splitlines()[0]\n",
    "\n",
    "data = list(data)\n",
    "# loop through string\n",
    "i = 1\n",
    "while i < len(data):\n",
    "    # check for duplicate letters, but different type\n",
    "    if(data[i-1].capitalize() == data[i].capitalize() and data[i-1] != data[i]):\n",
    "        # remove letters\n",
    "        data.pop(i-1)\n",
    "        data.pop(i-1)\n",
    "        # reset i\n",
    "        i -= 1\n",
    "    else:\n",
    "        i += 1\n",
    "len(data)"
   ]
  },
  {
   "cell_type": "code",
   "execution_count": 40,
   "metadata": {},
   "outputs": [
    {
     "name": "stdout",
     "output_type": "stream",
     "text": [
      "a\n",
      "11486\n",
      "b\n",
      "11478\n",
      "d\n",
      "11432\n",
      "g\n",
      "11404\n",
      "i\n",
      "4240\n"
     ]
    }
   ],
   "source": [
    "# PART 2\n",
    "import string\n",
    "# read file\n",
    "file = open(\"input.txt\",\"r\")\n",
    "\n",
    "# check file mode and readlines\n",
    "if file.mode == 'r':\n",
    "    data = file.read().splitlines()[0]\n",
    "\n",
    "original_data = list(data)\n",
    "letters = list(string.ascii_lowercase[:26])\n",
    "minimum = len(data)\n",
    "# loop through string\n",
    "for l in letters:\n",
    "    data_new = original_data.copy()\n",
    "    h = 1\n",
    "    while h < len(data_new):\n",
    "        if(data_new[h].capitalize() == l.capitalize()):\n",
    "            data_new.pop(h)\n",
    "        else:\n",
    "            h += 1 \n",
    "    i = 1\n",
    "    while i < len(data_new):\n",
    "        # check for duplicate letters, but different type\n",
    "        if(data_new[i-1].capitalize() == data_new[i].capitalize() and data_new[i-1] != data_new[i]):\n",
    "            # remove letters\n",
    "            data_new.pop(i-1)\n",
    "            data_new.pop(i-1)\n",
    "            # reset i\n",
    "            i -= 1\n",
    "        else:\n",
    "            i +=1\n",
    "    if minimum > len(data_new):\n",
    "        minimum = len(data_new)\n",
    "        print(l)\n",
    "        print(minimum)"
   ]
  }
 ],
 "metadata": {
  "kernelspec": {
   "display_name": "Python 3",
   "language": "python",
   "name": "python3"
  }
 },
 "nbformat": 4,
 "nbformat_minor": 2
}
