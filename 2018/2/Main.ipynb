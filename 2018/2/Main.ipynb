{
 "cells": [
  {
   "cell_type": "code",
   "execution_count": 36,
   "metadata": {},
   "outputs": [
    {
     "name": "stdout",
     "output_type": "stream",
     "text": [
      "250\n",
      "20\n",
      "Answer: 5000\n"
     ]
    }
   ],
   "source": [
    "## PART 1\n",
    "# read file\n",
    "file = open(\"input.txt\",\"r\")\n",
    "\n",
    "# check file mode and readlines\n",
    "if file.mode == 'r':\n",
    "    data = file.read().splitlines()\n",
    "\n",
    "#set values\n",
    "two_of_any_count = 0\n",
    "three_of_any_count = 0\n",
    "unique_list = []\n",
    "\n",
    "# loop through data\n",
    "for box_id in data:\n",
    "    # check if duplicate\n",
    "    if box_id not in unique_list:\n",
    "        list_of_letters = []\n",
    "        any_of_two_check = False\n",
    "        any_of_three_check = False\n",
    "        for letter in box_id:\n",
    "            # count letters\n",
    "            count = box_id.count(letter)\n",
    "            if count == 2:\n",
    "                any_of_two_check = True\n",
    "            if count == 3:\n",
    "                any_of_three_check = True\n",
    "        # add if exactly 2 or 3\n",
    "        if any_of_two_check:\n",
    "            two_of_any_count += 1\n",
    "        if any_of_three_check:\n",
    "            three_of_any_count += 1\n",
    "        unique_list.append(box_id)\n",
    "    else:\n",
    "        print(box_id + \" is a duplicate\")\n",
    "        \n",
    "# Print result\n",
    "print(two_of_any_count)\n",
    "print(three_of_any_count)\n",
    "print(\"Answer: \" + str(two_of_any_count*three_of_any_count))"
   ]
  },
  {
   "cell_type": "code",
   "execution_count": 37,
   "metadata": {},
   "outputs": [
    {
     "name": "stdout",
     "output_type": "stream",
     "text": [
      "Found:ymdrchgpvwfloluktajxijsqeb and ymdrchgpvwfloluktajxijsqmb\n",
      "Answer:ymdrchgpvwfloluktajxijsqb\n"
     ]
    }
   ],
   "source": [
    "## PART 2\n",
    "# read file\n",
    "file = open(\"input.txt\",\"r\")\n",
    "\n",
    "# check file mode and readlines\n",
    "if file.mode == 'r':\n",
    "    data = file.read().splitlines()\n",
    "\n",
    "#sort data\n",
    "data.sort()\n",
    "# loop through data\n",
    "for i in range(len(data[:-1])):\n",
    "    box_id_current = data[i]\n",
    "    box_id_next = data[i+1]\n",
    "    count_difference = 0\n",
    "    answer = \"\"\n",
    "    for j in range(len(box_id_current)):\n",
    "        if box_id_current[j] != box_id_next[j]:\n",
    "            count_difference +=1\n",
    "        else:\n",
    "            answer +=box_id_current[j]\n",
    "    if count_difference == 1:\n",
    "        print(\"Found strings with only one difference: \" + box_id_current + \" and \" + box_id_next)\n",
    "        print(\"Answer: \" + answer)\n",
    "        \n"
   ]
  },
  {
   "cell_type": "code",
   "execution_count": null,
   "metadata": {},
   "outputs": [],
   "source": []
  },
  {
   "cell_type": "code",
   "execution_count": null,
   "metadata": {},
   "outputs": [],
   "source": []
  }
 ],
 "metadata": {
  "kernelspec": {
   "display_name": "Python 3",
   "language": "python",
   "name": "python3"
  },
  "language_info": {
   "codemirror_mode": {
    "name": "ipython",
    "version": 3
   },
   "file_extension": ".py",
   "mimetype": "text/x-python",
   "name": "python",
   "nbconvert_exporter": "python",
   "pygments_lexer": "ipython3",
   "version": "3.7.3"
  }
 },
 "nbformat": 4,
 "nbformat_minor": 2
}
