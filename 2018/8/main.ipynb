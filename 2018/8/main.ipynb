{
 "cells": [
  {
   "cell_type": "code",
   "execution_count": 1,
   "metadata": {},
   "outputs": [],
   "source": [
    "# read file\n",
    "file = open(\"input.txt\",\"r\")\n",
    "\n",
    "# check file mode and readlines\n",
    "if file.mode == 'r':\n",
    "    data = file.read().split()\n",
    "data = [int(i) for i in data] "
   ]
  },
  {
   "cell_type": "code",
   "execution_count": 2,
   "metadata": {},
   "outputs": [],
   "source": [
    "def parse(data):\n",
    "    children,metas = data[:2]\n",
    "    data = data[2:]\n",
    "    scores = []\n",
    "    totals = 0\n",
    "    \n",
    "    for i in range(children):\n",
    "        total,score,data = parse(data)\n",
    "        totals += total\n",
    "        scores.append(score)\n",
    "        \n",
    "    meta_score = sum(data[:metas]) \n",
    "    totals += meta_score\n",
    "    if children == 0:\n",
    "        return (totals,meta_score, data[metas:])\n",
    "    else:\n",
    "        return (\n",
    "            totals,\n",
    "            sum(scores[k - 1] for k in data[:metas] if k > 0 and k <= len(scores)),\n",
    "            data[metas:]\n",
    "        )\n",
    "        \n",
    "\n",
    "totals,scores,remaining = parse(data)"
   ]
  },
  {
   "cell_type": "code",
   "execution_count": 3,
   "metadata": {},
   "outputs": [
    {
     "data": {
      "text/plain": [
       "46962"
      ]
     },
     "execution_count": 3,
     "metadata": {},
     "output_type": "execute_result"
    }
   ],
   "source": [
    "totals"
   ]
  },
  {
   "cell_type": "code",
   "execution_count": 4,
   "metadata": {
    "scrolled": true
   },
   "outputs": [
    {
     "data": {
      "text/plain": [
       "22633"
      ]
     },
     "execution_count": 4,
     "metadata": {},
     "output_type": "execute_result"
    }
   ],
   "source": [
    "scores"
   ]
  },
  {
   "cell_type": "code",
   "execution_count": null,
   "metadata": {},
   "outputs": [],
   "source": []
  }
 ],
 "metadata": {
  "kernelspec": {
   "display_name": "Python 3",
   "language": "python",
   "name": "python3"
  },
  "language_info": {
   "codemirror_mode": {
    "name": "ipython",
    "version": 3
   },
   "file_extension": ".py",
   "mimetype": "text/x-python",
   "name": "python",
   "nbconvert_exporter": "python",
   "pygments_lexer": "ipython3",
   "version": "3.7.3"
  }
 },
 "nbformat": 4,
 "nbformat_minor": 2
}
