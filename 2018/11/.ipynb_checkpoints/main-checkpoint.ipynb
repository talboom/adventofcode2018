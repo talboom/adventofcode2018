{
 "cells": [
  {
   "cell_type": "code",
   "execution_count": 33,
   "metadata": {},
   "outputs": [],
   "source": [
    "import math\n",
    "serial = 3999\n",
    "grid_size = 300"
   ]
  },
  {
   "cell_type": "code",
   "execution_count": null,
   "metadata": {},
   "outputs": [],
   "source": [
    "def getPowerlevel(x,y,serial):\n",
    "    rack_id = (x) + 10\n",
    "    powerlevel = rack_id * (y)\n",
    "    powerlevel += serial\n",
    "    powerlevel *= rack_id\n",
    "    powerlevel /= 100\n",
    "    powerlevel = (math.floor(powerlevel)) % 10\n",
    "    return powerlevel - 5\n",
    "\n",
    "maxpower = [0,-1,-1]\n",
    "for x in range(1,grid_size+1):\n",
    "    for y in range(1,grid_size+1):\n",
    "        powerlevel = 0\n",
    "        for x2 in range(x,x+3):\n",
    "            for y2 in range(y,y+3):\n",
    "                powerlevel += getPowerlevel(x2,y2,serial)\n",
    "        if maxpower[0] < powerlevel:\n",
    "            maxpower = [powerlevel,x,y]"
   ]
  },
  {
   "cell_type": "code",
   "execution_count": null,
   "metadata": {},
   "outputs": [],
   "source": [
    "def getPowerlevel(x,y,serial):\n",
    "    rack_id = (x) + 10\n",
    "    powerlevel = rack_id * (y)\n",
    "    powerlevel += serial\n",
    "    powerlevel *= rack_id\n",
    "    powerlevel /= 100\n",
    "    powerlevel = (math.floor(powerlevel)) % 10\n",
    "    return powerlevel - 5\n",
    "\n",
    "maxpower = [0,-1,-1]\n",
    "for x in range(1,grid_size+1):\n",
    "    for y in range(1,grid_size+1):\n",
    "        powerlevel = 0\n",
    "        for s in range(1,grid_size+1-x):\n",
    "            for x2 in range(x,x+s):\n",
    "                for y2 in range(y,y+s):\n",
    "                    powerlevel += getPowerlevel(x2,y2,serial)\n",
    "            if maxpower[0] < powerlevel:\n",
    "                maxpower = [powerlevel,x,y]"
   ]
  },
  {
   "cell_type": "code",
   "execution_count": null,
   "metadata": {},
   "outputs": [],
   "source": [
    "maxpower"
   ]
  },
  {
   "cell_type": "code",
   "execution_count": 57,
   "metadata": {},
   "outputs": [
    {
     "data": {
      "text/plain": [
       "[31, 20, 76]"
      ]
     },
     "execution_count": 57,
     "metadata": {},
     "output_type": "execute_result"
    }
   ],
   "source": [
    "maxpower"
   ]
  },
  {
   "cell_type": "code",
   "execution_count": 76,
   "metadata": {},
   "outputs": [
    {
     "name": "stdout",
     "output_type": "stream",
     "text": [
      "[4, 4, 3]\n",
      "[3, 3, 3]\n",
      "[3, 4, 4]\n"
     ]
    }
   ],
   "source": [
    "i = 21-1\n",
    "j = 77-1\n",
    "print(grid[i][j:j+3])\n",
    "print(grid[i+1][j:j+3])\n",
    "print(grid[i+2][j:j+3])"
   ]
  },
  {
   "cell_type": "code",
   "execution_count": 77,
   "metadata": {},
   "outputs": [
    {
     "ename": "SyntaxError",
     "evalue": "unexpected EOF while parsing (<ipython-input-77-32a609bd2122>, line 1)",
     "output_type": "error",
     "traceback": [
      "\u001b[1;36m  File \u001b[1;32m\"<ipython-input-77-32a609bd2122>\"\u001b[1;36m, line \u001b[1;32m1\u001b[0m\n\u001b[1;33m    for i in grid:\u001b[0m\n\u001b[1;37m                  ^\u001b[0m\n\u001b[1;31mSyntaxError\u001b[0m\u001b[1;31m:\u001b[0m unexpected EOF while parsing\n"
     ]
    }
   ],
   "source": [
    "for i in grid:"
   ]
  },
  {
   "cell_type": "code",
   "execution_count": null,
   "metadata": {},
   "outputs": [],
   "source": []
  }
 ],
 "metadata": {
  "kernelspec": {
   "display_name": "Python 3",
   "language": "python",
   "name": "python3"
  },
  "language_info": {
   "codemirror_mode": {
    "name": "ipython",
    "version": 3
   },
   "file_extension": ".py",
   "mimetype": "text/x-python",
   "name": "python",
   "nbconvert_exporter": "python",
   "pygments_lexer": "ipython3",
   "version": "3.7.3"
  }
 },
 "nbformat": 4,
 "nbformat_minor": 2
}
