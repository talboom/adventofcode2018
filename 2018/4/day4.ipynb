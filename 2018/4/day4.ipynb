{
 "cells": [
  {
   "cell_type": "code",
   "execution_count": 162,
   "metadata": {},
   "outputs": [
    {
     "name": "stdout",
     "output_type": "stream",
     "text": [
      "[0. 0. 0. 0. 0. 0. 0. 0. 0. 0. 0. 0. 0. 0. 0. 0. 0. 0. 0. 0. 0. 0. 0. 0.\n",
      " 0. 0. 0. 0. 0. 0. 0. 0. 0. 0. 0. 0. 0. 0. 0. 0. 0. 0. 0. 0. 0. 0. 0. 0.\n",
      " 0. 0. 0. 0. 0. 0. 0. 0. 0. 0. 0. 0.]\n",
      "48680\n"
     ]
    }
   ],
   "source": [
    "## PART 1\n",
    "import re\n",
    "import numpy as np\n",
    "import datetime\n",
    "\n",
    "# read file\n",
    "file = open(\"input.txt\",\"r\")\n",
    "\n",
    "# check file mode and readlines\n",
    "if file.mode == 'r':\n",
    "    data = file.read().splitlines()\n",
    "    \n",
    "# sort data in right order\n",
    "data.sort()\n",
    "\n",
    "# set variables\n",
    "c_data = []\n",
    "res_array = []\n",
    "minutes = np.zeros(60)\n",
    "\n",
    "# loop through data and create data line per shift \n",
    "for i in range(int(len(data))):\n",
    "    if re.match(r'(.*)Guard #[0-9]+ begins shift', data[i]) is not None:\n",
    "        c_data.append([guard_id,minutes.copy(),tot_min_asleep])\n",
    "        guard = re.match(r'\\[[0-9]{4}-(?P<month>[0-9]{2})-(?P<day>[0-9]{2}) (?P<hour>[0-9]{2}):(?P<minute>[0-9]{2})\\] Guard #(?P<id>[0-9]+) begins shift', data[i]).groupdict()\n",
    "        guard_id = int(guard[\"id\"])\n",
    "        minutes[0:60] = 0\n",
    "        tot_min_asleep = 0\n",
    "    elif re.match(r'(.*)falls asleep', data[i]) is not None:\n",
    "        asleep = re.match(r'\\[[0-9]{4}-(?P<month>[0-9]{2})-(?P<day>[0-9]{2}) (?P<hour>[0-9]{2}):(?P<minute>[0-9]{2})\\] falls asleep', data[i]).groupdict()   \n",
    "    elif re.match(r'(.*)wakes up', data[i]) is not None:\n",
    "        wakes = re.match(r'\\[[0-9]{4}-(?P<month>[0-9]{2})-(?P<day>[0-9]{2}) (?P<hour>[0-9]{2}):(?P<minute>[0-9]{2})\\] wakes up', data[i]).groupdict()\n",
    "        minutes[int(asleep[\"minute\"]):int(wakes[\"minute\"])] = 1\n",
    "        tot_min_asleep += int(wakes[\"minute\"]) - int(asleep[\"minute\"])\n",
    "\n",
    "# enter in dataframe and calculate sleeping time per guard\n",
    "df = pd.DataFrame(c_data, columns=[\"id\",\"minutes\",\"min_asleep\"])\n",
    "df_group = df.groupby(['id']).sum()\n",
    "\n",
    "# get guard with longest sleeping time\n",
    "max_id = df_group.loc[df_group['min_asleep'].idxmax()].name\n",
    "\n",
    "# calculate minute with most sleep\n",
    "df_guard = df.loc[df['id']==max_id]\n",
    "minutes_count = np.zeros(60)\n",
    "for index, row in df_guard.iterrows():\n",
    "    min_temp = row[\"minutes\"]\n",
    "    for i in range(len(row[\"minutes\"])):\n",
    "        if row[\"minutes\"][i] > 0:\n",
    "            minutes_count[i] += 1\n",
    "minute_with_most_sleep = np.where(minutes_count == np.amax(minutes_count))[0][0]\n",
    "\n",
    "# Calculate answer\n",
    "print(minute_with_most_sleep*max_id)"
   ]
  },
  {
   "cell_type": "code",
   "execution_count": 231,
   "metadata": {},
   "outputs": [
    {
     "data": {
      "text/plain": [
       "94826"
      ]
     },
     "execution_count": 231,
     "metadata": {},
     "output_type": "execute_result"
    }
   ],
   "source": [
    "## PART 2\n",
    "mins = df['minutes'].apply(pd.Series)\n",
    "df_2 =pd.concat([df[:], mins[:]], axis=1)\n",
    "df_2 = df_2.drop([\"minutes\",\"min_asleep\"], axis=1)\n",
    "df_2 = df_2.set_index(\"id\")\n",
    "df_2 = df_2.groupby(['id']).sum()\n",
    "max_minute = np.where(df_2.values.max(0) == df_2.values.max())[0][0]\n",
    "guard_id = df_2.index[np.where(df_2.values.max(1) == df_2.values.max())[0][0]]\n",
    "max_minute*guard_id"
   ]
  },
  {
   "cell_type": "code",
   "execution_count": null,
   "metadata": {},
   "outputs": [],
   "source": []
  }
 ],
 "metadata": {
  "kernelspec": {
   "display_name": "Python 3",
   "language": "python",
   "name": "python3"
  },
  "language_info": {
   "codemirror_mode": {
    "name": "ipython",
    "version": 3
   },
   "file_extension": ".py",
   "mimetype": "text/x-python",
   "name": "python",
   "nbconvert_exporter": "python",
   "pygments_lexer": "ipython3",
   "version": "3.7.3"
  }
 },
 "nbformat": 4,
 "nbformat_minor": 2
}
