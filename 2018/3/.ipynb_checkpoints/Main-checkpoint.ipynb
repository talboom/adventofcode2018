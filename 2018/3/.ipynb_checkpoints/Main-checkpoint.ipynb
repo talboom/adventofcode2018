{
 "cells": [
  {
   "cell_type": "code",
   "execution_count": 1,
   "metadata": {},
   "outputs": [
    {
     "name": "stdout",
     "output_type": "stream",
     "text": [
      "111630\n"
     ]
    }
   ],
   "source": [
    "## PART 1\n",
    "import re\n",
    "import numpy as np\n",
    "\n",
    "\n",
    "def parse_claim(s):\n",
    "    p = re.compile(r'#(?P<id>[0-9]+) @ (?P<left>[0-9]+),(?P<top>[0-9]+): (?P<width>[0-9]+)x(?P<height>[0-9]+)')    \n",
    "    match = p.match(s)\n",
    "\n",
    "    claim_id = int(match.group(\"id\"))\n",
    "    from_left = int(match.group(\"left\"))\n",
    "    from_top = int(match.group(\"top\"))\n",
    "    width = int(match.group(\"width\"))\n",
    "    height = int(match.group(\"height\"))\n",
    "    return claim_id,from_left,from_top,width,height\n",
    "\n",
    "# read file\n",
    "file = open(\"input.txt\",\"r\")\n",
    "\n",
    "# check file mode and readlines\n",
    "if file.mode == 'r':\n",
    "    data = file.read().splitlines()\n",
    "\n",
    "# create fabric of at least 1000 and set \n",
    "fabric = np.zeros([1000,1000])   \n",
    "overlap = 0\n",
    "\n",
    "# loop through claims and check how many times a square inch is used\n",
    "for d in data:\n",
    "    claim_id,from_left,from_top,width,height = parse_claim(d)\n",
    "    max_width = from_left+width\n",
    "    max_height = from_top+height\n",
    "    \n",
    "    # Extend frabric if needed\n",
    "    if(max_width > len(fabric)):\n",
    "        fabric_new = np.zeros([max_width,len(fabric[0])]) \n",
    "        fabric_new[:fabric.shape[0], :fabric.shape[1]] = fabric\n",
    "        fabric = fabric_new\n",
    "    if(max_height > len(fabric[0])):\n",
    "        fabric_new = np.zeros([len(fabric),max_height]) \n",
    "        fabric_new[:fabric.shape[0], :fabric.shape[1]] = fabric\n",
    "        fabric = fabric_new\n",
    "\n",
    "    for i in range(from_left,from_left+width):\n",
    "        for j in range(from_top,from_top+height):\n",
    "            fabric[i][j] += 1\n",
    "            if fabric[i][j] == 2:\n",
    "                overlap +=1\n",
    "    \n",
    "print(overlap)"
   ]
  },
  {
   "cell_type": "code",
   "execution_count": 2,
   "metadata": {},
   "outputs": [
    {
     "name": "stdout",
     "output_type": "stream",
     "text": [
      "724\n"
     ]
    }
   ],
   "source": [
    "## PART 2\n",
    "\n",
    "# loop through claims and check if no overlap\n",
    "for d in data:\n",
    "    claim_id,from_left,from_top,width,height = parse_claim(d)\n",
    "    area = width * height\n",
    "    check_area = 0\n",
    "    for i in range(from_left,from_left+width):\n",
    "        for j in range(from_top,from_top+height):\n",
    "            if fabric[i][j] == 1:\n",
    "                check_area +=1\n",
    "    if area == check_area:\n",
    "        print(claim_id)"
   ]
  },
  {
   "cell_type": "code",
   "execution_count": null,
   "metadata": {},
   "outputs": [],
   "source": []
  }
 ],
 "metadata": {
  "kernelspec": {
   "display_name": "Python 3",
   "language": "python",
   "name": "python3"
  },
  "language_info": {
   "codemirror_mode": {
    "name": "ipython",
    "version": 3
   },
   "file_extension": ".py",
   "mimetype": "text/x-python",
   "name": "python",
   "nbconvert_exporter": "python",
   "pygments_lexer": "ipython3",
   "version": "3.7.3"
  }
 },
 "nbformat": 4,
 "nbformat_minor": 2
}
