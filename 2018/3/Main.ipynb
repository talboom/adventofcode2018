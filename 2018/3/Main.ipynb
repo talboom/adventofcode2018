{
 "cells": [
  {
   "cell_type": "code",
   "execution_count": 3,
   "metadata": {},
   "outputs": [
    {
     "name": "stdout",
     "output_type": "stream",
     "text": [
      "#1 @ 56,249: 24x16\n",
      "#2 @ 682,730: 13x20\n",
      "#3 @ 774,241: 22x23\n",
      "#4 @ 503,41: 17x15\n",
      "#5 @ 174,516: 17x15\n",
      "#6 @ 1,184: 16x24\n",
      "#7 @ 510,661: 15x29\n",
      "#8 @ 396,504: 23x26\n",
      "#9 @ 719,523: 26x20\n",
      "#10 @ 189,795: 20x24\n"
     ]
    }
   ],
   "source": [
    "## PART 1\n",
    "\n",
    "import re\n",
    "# read file\n",
    "file = open(\"input.txt\",\"r\")\n",
    "\n",
    "# check file mode and readlines\n",
    "if file.mode == 'r':\n",
    "    data = file.read().splitlines()\n",
    "\n",
    "fabric = [[]]    \n",
    "    \n",
    "for d in data[0:10]:\n",
    "    for \n",
    "    frequency = print(d)\n",
    "    \n",
    "   \n",
    "def extract_data2(s):\n",
    "    pattern = re.compile(r\"\"\"\\*                 # opening bar and whitespace\n",
    "                             (?P<name>.*?)'       # quoted name\n",
    "                             \\s*\\|\\s*(?P<n1>.*?)   # whitespace, next bar, n1\n",
    "                             \\s*\\|\\s*(?P<n2>.*?)   # whitespace, next bar, n2\n",
    "                             \\s*\\|\"\"\", re.VERBOSE)\n",
    "    match = pattern.match(s)\n",
    "\n",
    "    name = match.group(\"name\")\n",
    "    n1 = float(match.group(\"n1\"))\n",
    "    n2 = float(match.group(\"n2\"))\n",
    "\n",
    "    return (name, n1, n2)"
   ]
  },
  {
   "cell_type": "code",
   "execution_count": 4,
   "metadata": {},
   "outputs": [],
   "source": []
  },
  {
   "cell_type": "code",
   "execution_count": null,
   "metadata": {},
   "outputs": [],
   "source": []
  }
 ],
 "metadata": {
  "kernelspec": {
   "display_name": "Python 3",
   "language": "python",
   "name": "python3"
  },
  "language_info": {
   "codemirror_mode": {
    "name": "ipython",
    "version": 3
   },
   "file_extension": ".py",
   "mimetype": "text/x-python",
   "name": "python",
   "nbconvert_exporter": "python",
   "pygments_lexer": "ipython3",
   "version": "3.7.3"
  }
 },
 "nbformat": 4,
 "nbformat_minor": 2
}
