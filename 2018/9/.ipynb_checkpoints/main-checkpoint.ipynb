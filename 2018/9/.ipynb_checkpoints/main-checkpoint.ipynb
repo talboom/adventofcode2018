{
 "cells": [
  {
   "cell_type": "code",
   "execution_count": 2,
   "metadata": {},
   "outputs": [],
   "source": [
    "from collections import deque, defaultdict\n",
    "\n",
    "players = 470 \n",
    "marbles = range(1,7217000)"
   ]
  },
  {
   "cell_type": "code",
   "execution_count": 3,
   "metadata": {},
   "outputs": [],
   "source": [
    "field = deque([0])\n",
    "scores = [0]*players\n",
    "current = 0\n",
    "position = current\n",
    "\n",
    "for m in marbles:\n",
    "    if (m % 23) == 0:\n",
    "        field.rotate(7)\n",
    "        scores[m % players] += m + field.pop()\n",
    "        field.rotate(-1)\n",
    "    else:\n",
    "        field.rotate(-1)\n",
    "        field.append(m)"
   ]
  },
  {
   "cell_type": "code",
   "execution_count": 4,
   "metadata": {},
   "outputs": [
    {
     "name": "stdout",
     "output_type": "stream",
     "text": [
      "3180929875\n"
     ]
    }
   ],
   "source": [
    "print(max(scores))"
   ]
  },
  {
   "cell_type": "code",
   "execution_count": null,
   "metadata": {},
   "outputs": [],
   "source": []
  }
 ],
 "metadata": {
  "kernelspec": {
   "display_name": "Python 3",
   "language": "python",
   "name": "python3"
  },
  "language_info": {
   "codemirror_mode": {
    "name": "ipython",
    "version": 3
   },
   "file_extension": ".py",
   "mimetype": "text/x-python",
   "name": "python",
   "nbconvert_exporter": "python",
   "pygments_lexer": "ipython3",
   "version": "3.7.3"
  }
 },
 "nbformat": 4,
 "nbformat_minor": 2
}
