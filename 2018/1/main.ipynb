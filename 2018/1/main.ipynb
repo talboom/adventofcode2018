{
 "cells": [
  {
   "cell_type": "code",
   "execution_count": 3,
   "metadata": {},
   "outputs": [
    {
     "name": "stdout",
     "output_type": "stream",
     "text": [
      "Answer: 533\n"
     ]
    }
   ],
   "source": [
    "## PART 1\n",
    "\n",
    "# read file\n",
    "file = open(\"input.txt\",\"r\")\n",
    "\n",
    "# check file mode and readlines\n",
    "if file.mode == 'r':\n",
    "    data = file.read().splitlines()\n",
    "   \n",
    "# set starting value and add all numbers\n",
    "frequency = 0\n",
    "for d in data:\n",
    "    frequency += int(d)\n",
    "\n",
    "# print anwser\n",
    "print(\"Answer: \" + str(frequency))"
   ]
  },
  {
   "cell_type": "code",
   "execution_count": 4,
   "metadata": {},
   "outputs": [
    {
     "name": "stdout",
     "output_type": "stream",
     "text": [
      "Answer: 73272\n"
     ]
    }
   ],
   "source": [
    "## PART 2\n",
    "from matplotlib import pyplot as plt\n",
    "# read file\n",
    "file = open(\"input.txt\",\"r\")\n",
    "\n",
    "# check file mode and readlines\n",
    "if file.mode == 'r':\n",
    "    data = file.readlines()\n",
    "    \n",
    "# set starting value and add all numbers\n",
    "frequency_current = 0\n",
    "frequencies_history = [0]\n",
    "repeating_frequency = None\n",
    "i = 0\n",
    "length_list = len(data)\n",
    "while repeating_frequency == None:\n",
    "    frequency_current += int(data[i])\n",
    "    if frequency_current in frequencies_history:\n",
    "        repeating_frequency = frequency_current\n",
    "    frequencies_history.append(frequency_current)\n",
    "    i += 1\n",
    "    if i == length_list:\n",
    "        i = 0\n",
    "    \n",
    "\n",
    "# print anwser\n",
    "\n",
    "print(\"Answer: \" + str(repeating_frequency))"
   ]
  }
 ],
 "metadata": {
  "kernelspec": {
   "display_name": "Python 3",
   "language": "python",
   "name": "python3"
  }
 },
 "nbformat": 4,
 "nbformat_minor": 2
}
